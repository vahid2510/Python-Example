{
  "nbformat": 4,
  "nbformat_minor": 5,
  "metadata": {
    "kernelspec": {
      "name": "python3",
      "display_name": "Python 3"
    },
    "language_info": {
      "name": "python",
      "pygments_lexer": "ipython3"
    }
  },
  "cells": [
    {
      "cell_type": "markdown",
      "metadata": {},
      "source": "# 🐍 200 Weird & Creative Python Snippets\n**۲۰۰ قطعه کد خلاقانه، عجیب و جالب پایتون**\n\nEach cell contains a short Farsi description followed by the runnable code.\nهر سلول شامل یک توضیح فارسی کوتاه و سپس کد قابل اجرا است.\n"
    },
    {
      "cell_type": "markdown",
      "metadata": {},
      "source": "## کد 1: آینه‌سازی اعداد با ضرب داخلی عجیب\nرشته معکوس عدد را می‌گیرد و حاصل ضرب جفت‌های متوالی را جمع می‌کند.\n"
    },
    {
      "cell_type": "code",
      "metadata": {},
      "execution_count": null,
      "outputs": [],
      "source": "# 1. Mirror-dot trick\nfrom itertools import pairwise\ns=str(1**2)[::-1]\nprint(sum(int(a)*int(b) for a,b in pairwise(\"0\"+s)))"
    },
    {
      "cell_type": "markdown",
      "metadata": {},
      "source": "## کد 2: نُت‌ساز تصادفی با ⁣itertools.cycle\nترکیب cycle با انتخاب تصادفی برای ساخت رشته‌ای از نُت‌ها.\n"
    },
    {
      "cell_type": "code",
      "metadata": {},
      "execution_count": null,
      "outputs": [],
      "source": "# 2. Tiny random note sequencer\nimport itertools, random\nnotes=list(\"CDEFGAB\"); rnd=random.Random(2)\nfor _ in range(12): print(rnd.choice(notes)+next(itertools.cycle(\"#b \")), end=\"\")"
    },
    {
      "cell_type": "markdown",
      "metadata": {},
      "source": "## کد 3: دیکشنریِ شمارشگرِ حروفِ اولِ کلمات\nبا کامپرهنشن تو در تو، تعداد کلمات هر حرف اول را می‌شمارد.\n"
    },
    {
      "cell_type": "code",
      "metadata": {},
      "execution_count": null,
      "outputs": [],
      "source": "# 3. First-letter histogram dict\ntext=\"خیال خامِ خَرامانِ 3\"\nd={k:sum(w.startswith(k) for w in text.split()) for k in set(w[0] for w in text.split())}\nprint(d)"
    },
    {
      "cell_type": "markdown",
      "metadata": {},
      "source": "## کد 4: فشرده‌ساز عددی با ⁣heapq\nیک هیپ می‌سازد و ۵ مقدار کمینهٔ فشرده‌شده را برمی‌دارد.\n"
    },
    {
      "cell_type": "code",
      "metadata": {},
      "execution_count": null,
      "outputs": [],
      "source": "# 4. Heap squeeze\nimport heapq; nums=[(x*x+4)%97 for x in range(15)]\nheapq.heapify(nums); print([heapq.heappop(nums) for _ in range(5)])"
    },
    {
      "cell_type": "markdown",
      "metadata": {},
      "source": "## کد 5: نویز هنری با ⁣fractions.Fraction\nبا کسرها الگوی نقطه/ستاره بر اساس زوج‌بودن می‌سازد.\n"
    },
    {
      "cell_type": "code",
      "metadata": {},
      "execution_count": null,
      "outputs": [],
      "source": "# 5. Fractional noise line\nfrom fractions import Fraction as F\nline=[F(k,8) for k in range(1,10)]\nprint(\"\".join(\".\" if v%2 else \"*\" for v in line))"
    },
    {
      "cell_type": "markdown",
      "metadata": {},
      "source": "## کد 6: مرتّب‌سازی دوگانه با ⁣bisect\nبا insort هر مقدار جدید را درج می‌کند و ماکزیمم لحظه‌ای را نشان می‌دهد.\n"
    },
    {
      "cell_type": "code",
      "metadata": {},
      "execution_count": null,
      "outputs": [],
      "source": "# 6. Dual insert sort\nimport bisect; arr=[]\nfor v in [(6%13*x)%37 for x in range(12)]: bisect.insort(arr,v); print(arr[-1],end=\" \")\nprint(\"\\n\",arr)"
    },
    {
      "cell_type": "markdown",
      "metadata": {},
      "source": "## کد 7: مدیریت‌گر زمینه: وارونه‌کنندهٔ چاپ\nبا context manager خروجی print را معکوس می‌کند.\n"
    },
    {
      "cell_type": "code",
      "metadata": {},
      "execution_count": null,
      "outputs": [],
      "source": "# 7. Context reverser\nimport contextlib, sys\n@contextlib.contextmanager\ndef reversed_print():\n    class W: \n        def write(self,s): sys.__stdout__.write(s[::-1])\n    old=sys.stdout; sys.stdout=W()\n    try: yield\n    finally: sys.stdout=old\nwith reversed_print(): print(\"Hello 7\")"
    },
    {
      "cell_type": "markdown",
      "metadata": {},
      "source": "## کد 8: دکوریتور: حافظهٔ حداقلی با کلید عجیب\nدنباله فیبوناچی مدولویی را با کش لایه انجام می‌دهد.\n"
    },
    {
      "cell_type": "code",
      "metadata": {},
      "execution_count": null,
      "outputs": [],
      "source": "# 8. Minimal memo by weird key\nfrom functools import lru_cache\n@lru_cache(maxsize=None)\ndef f(n,k=5): return 1 if n<2 else (f(n-1,k)+f(n-2,k))%k\nprint([f(x) for x in range(10)])"
    },
    {
      "cell_type": "markdown",
      "metadata": {},
      "source": "## کد 9: کلاس با عملگر @ به‌عنوان آمیختگر رشته\nمتد ویژه __matmul__ را برای آمیختن دو رشته به کار می‌گیرد.\n"
    },
    {
      "cell_type": "code",
      "metadata": {},
      "execution_count": null,
      "outputs": [],
      "source": "# 9. @ as string blender\nclass Blend:\n    def __matmul__(self,other): return \"\".join(a+b for a,b in zip(self.s,other.s))\n    def __init__(self,s): self.s=s\nprint( (Blend(\"abc1\") @ Blend(\"XYZ?\")).upper() )"
    },
    {
      "cell_type": "markdown",
      "metadata": {},
      "source": "## کد 10: ژنراتور زیگزاگ با برش‌های هوشمند\nدنباله‌ای رفت و برگشتی حول صفر تولید می‌کند.\n"
    },
    {
      "cell_type": "code",
      "metadata": {},
      "execution_count": null,
      "outputs": [],
      "source": "# 10. Zigzag generator\ndef zig(n): \n    for k in range(n): yield (-1)**k*(k//2)\nprint(list(it.islice(zig(9),10)))"
    },
    {
      "cell_type": "markdown",
      "metadata": {},
      "source": "## کد 11: کامپرهنشن نامتقارنِ مربع-مکعب\nشبکه‌ای از زوج‌های مربع و مکعب با شرط نامتقارن می‌سازد.\n"
    },
    {
      "cell_type": "code",
      "metadata": {},
      "execution_count": null,
      "outputs": [],
      "source": "# 11. Skewed squares-cubes grid\ngrid=[(x*x,y*y*y) for x in range(1,4) for y in range(x,4) if (x+y)%2]\nprint(grid)"
    },
    {
      "cell_type": "markdown",
      "metadata": {},
      "source": "## کد 12: واژه‌ساز پالین‌دروم با ⁣re.sub\nبا یک جایگزینی منظم، کلمه را به پالین‌دروم دوبله تبدیل می‌کند.\n"
    },
    {
      "cell_type": "code",
      "metadata": {},
      "execution_count": null,
      "outputs": [],
      "source": "# 12. Pal fixer\nimport re\nw=\"level\"\nprint(re.sub(r\"(.*)\",\"\\1\"+w[::-1],w))"
    },
    {
      "cell_type": "markdown",
      "metadata": {},
      "source": "## کد 13: میانگین‌های روندهٔ غیرخطی\nمیانگین هارمونیک تجمعی روی داده‌های مصنوعی محاسبه می‌کند.\n"
    },
    {
      "cell_type": "code",
      "metadata": {},
      "execution_count": null,
      "outputs": [],
      "source": "# 13. Nonlinear rolling mean\nimport statistics as st\ndata=[(k*k+13)%50 for k in range(1,12)]\nprint([round(st.harmonic_mean(data[:k]),2) for k in range(2,len(data)+1)])"
    },
    {
      "cell_type": "markdown",
      "metadata": {},
      "source": "## کد 14: دیکشنریِ تو در تو برای مثلث خیالی\nمثلثی از دیکشنری‌ها و جمع کل مقادیر را می‌سازد.\n"
    },
    {
      "cell_type": "code",
      "metadata": {},
      "execution_count": null,
      "outputs": [],
      "source": "# 14. Nested dict triangle\ntri={i:{j:(i+j)%7 for j in range(i+1)} for i in range(5)}\nprint(tri[3][2], sum(map(sum,(d.values() for d in tri.values()))))"
    },
    {
      "cell_type": "markdown",
      "metadata": {},
      "source": "## کد 15: مدیریت خطای شاعرانه با contextlib.suppress\nبا suppress خطای تقسیم بر صفر احتمالی را می‌بلعد.\n"
    },
    {
      "cell_type": "code",
      "metadata": {},
      "execution_count": null,
      "outputs": [],
      "source": "# 15. Poetic suppress\nfrom contextlib import suppress\nwith suppress(ZeroDivisionError):\n    print(\"silence:\", 1/1-1)"
    },
    {
      "cell_type": "markdown",
      "metadata": {},
      "source": "## کد 16: دکوریتور کندکنندهٔ مشروط\nدکوریتوری که گاهی مکثی کوتاه ایجاد می‌کند.\n"
    },
    {
      "cell_type": "code",
      "metadata": {},
      "execution_count": null,
      "outputs": [],
      "source": "# 16. Conditional slow-down\nimport time, functools\ndef slow(f): \n    @functools.wraps(f)\n    def g(*a,**k): \n        time.sleep(0 if 16%3 else 0.01); return f(*a,**k)\n    return g\n@slow\ndef add(x,y): return x+y\nprint(add(2,1))"
    },
    {
      "cell_type": "markdown",
      "metadata": {},
      "source": "## کد 17: کلاس قابلِ وارون‌سازی با ~\nعملگر ~ را برای برعکس کردن نمایش رشته‌ای مقدار پیاده می‌کند.\n"
    },
    {
      "cell_type": "code",
      "metadata": {},
      "execution_count": null,
      "outputs": [],
      "source": "# 17. Invertible object\nclass Flip:\n    def __init__(self,v): self.v=v\n    def __invert__(self): return Flip(str(self.v)[::-1])\n    def __repr__(self): return f\"Flip({self.v})\"\nprint(~Flip(289))"
    },
    {
      "cell_type": "markdown",
      "metadata": {},
      "source": "## کد 18: مینی DSL جمعی با __call__\nکلاسی که با فراخوانی‌های زنجیره‌ای مجموع را نگه می‌دارد.\n"
    },
    {
      "cell_type": "code",
      "metadata": {},
      "execution_count": null,
      "outputs": [],
      "source": "# 18. Tiny DSL\nclass S:\n    def __init__(self): self.t=0\n    def __call__(self,*xs): self.t+=sum(xs); return self\n    def __repr__(self): return f\"Σ={self.t}\"\nprint(S()(1,0,3)(4)(-2))"
    },
    {
      "cell_type": "markdown",
      "metadata": {},
      "source": "## کد 19: گراف فشرده با defaultdict و zip\nیک گراف جهت‌دار حلقوی ساده به طور فشرده می‌سازد.\n"
    },
    {
      "cell_type": "code",
      "metadata": {},
      "execution_count": null,
      "outputs": [],
      "source": "# 19. Compact graph\nfrom collections import defaultdict\ng=defaultdict(list); edges=list(zip(\"abcd\",\"bcda\"))\nfor a,b in edges: g[a].append(b)\nprint(dict(g))"
    },
    {
      "cell_type": "markdown",
      "metadata": {},
      "source": "## کد 20: ماهی‌گیر الگو با enumerate و slicing\nاندیس‌های الگوهای خاص را در رشته‌ای پیدا می‌کند.\n"
    },
    {
      "cell_type": "code",
      "metadata": {},
      "execution_count": null,
      "outputs": [],
      "source": "# 20. Pattern fisher\ns=\"--><><<><>\"*2\nhits=[i for i,ch in enumerate(s) if s[i:i+3] in (\"><>\", \"<>\")]\nprint(hits)"
    },
    {
      "cell_type": "markdown",
      "metadata": {},
      "source": "## کد 21: ترکیب‌گر lambda برای فیلترهای چندمرحله‌ای\nسه آزمون را با هم ترکیب کرده و اعداد گذرندهٔ دقیقاً دو شرط را می‌یابد.\n"
    },
    {
      "cell_type": "code",
      "metadata": {},
      "execution_count": null,
      "outputs": [],
      "source": "# 21. Lambda combiner\nfs=[lambda x:x%2, lambda x:x%3, lambda x:x>0]\nprint([x for x in range(15) if sum(f(x)==0 for f in fs)==2])"
    },
    {
      "cell_type": "markdown",
      "metadata": {},
      "source": "## کد 22: چرخش لایه‌ای دیکشنری\nبرای هر کلید سه‌تاییِ همسایه‌های دورانی می‌سازد.\n"
    },
    {
      "cell_type": "code",
      "metadata": {},
      "execution_count": null,
      "outputs": [],
      "source": "# 22. Layered dict rotate\nd={k:22+k for k in range(5)}\nrot={k:(d[(k-1)%5],d[k],d[(k+1)%5]) for k in d}\nprint(rot[2])"
    },
    {
      "cell_type": "markdown",
      "metadata": {},
      "source": "## کد 23: انتخابگر غیرخطی با bisect و جمع پیشوندی\nبا اوزان نامتقارن، اندیس‌های انتخاب‌شده را می‌سازد.\n"
    },
    {
      "cell_type": "code",
      "metadata": {},
      "execution_count": null,
      "outputs": [],
      "source": "# 23. Nonlinear picker\nimport bisect\nw=[k*k%7+1 for k in range(1,8)]\npref=[0]\nfor x in w: pref.append(pref[-1]+x)\npick=lambda r: bisect.bisect(pref,r%pref[-1])-1\nprint([pick(k+23) for k in range(10)])"
    },
    {
      "cell_type": "markdown",
      "metadata": {},
      "source": "## کد 24: فهرست‌ساز دیوانه با map و set\nبا map و set مقادیر یکتا از تبدیل مدولویی تولید می‌کند.\n"
    },
    {
      "cell_type": "code",
      "metadata": {},
      "execution_count": null,
      "outputs": [],
      "source": "# 24. Mad lister\nxs=set(map(lambda x:(x*6)%11, range(12)))\nprint(sorted(xs))"
    },
    {
      "cell_type": "markdown",
      "metadata": {},
      "source": "## کد 25: کانتکست‌منیجر شمارندهٔ print\nبه طور موقت print را می‌پیچد و دفعات فراخوانی را می‌شمارد.\n"
    },
    {
      "cell_type": "code",
      "metadata": {},
      "execution_count": null,
      "outputs": [],
      "source": "# 25. Print counter\nimport contextlib, builtins\n@contextlib.contextmanager\ndef count_print():\n    c={\"n\":0}; old=builtins.print\n    def p(*a,**k): c[\"n\"]+=1; return old(*a,**k)\n    builtins.print=p; \n    try: yield c\n    finally: builtins.print=old\nwith count_print() as C: print(\"x\"); print(25); print(C[\"n\"])"
    },
    {
      "cell_type": "markdown",
      "metadata": {},
      "source": "## کد 26: minimax کوچک با functools.reduce\nحداقل و حداکثر را در یک عبور با reduce می‌یابد.\n"
    },
    {
      "cell_type": "code",
      "metadata": {},
      "execution_count": null,
      "outputs": [],
      "source": "# 26. Tiny minimax\nfrom functools import reduce\nseq=[(x*9)%17 for x in range(8)]\nprint(reduce(lambda a,b:(min(a,b),max(a,b)),seq))"
    },
    {
      "cell_type": "markdown",
      "metadata": {},
      "source": "## کد 27: کلاس قابلِ اسلاید با __getitem__\nبرش روی شی را جابجایی دورانی رشته معنی می‌کند.\n"
    },
    {
      "cell_type": "code",
      "metadata": {},
      "execution_count": null,
      "outputs": [],
      "source": "# 27. Slideable\nclass Slide:\n    def __init__(self,s): self.s=s\n    def __getitem__(self,k): return self.s[k:]+self.s[:k]\nprint(Slide(\"HELLO\")[2])"
    },
    {
      "cell_type": "markdown",
      "metadata": {},
      "source": "## کد 28: جمع دیفرانسیلی با accumulate عجیب\nاعداد زوج را جمع و فردها را کم می‌کند.\n"
    },
    {
      "cell_type": "code",
      "metadata": {},
      "execution_count": null,
      "outputs": [],
      "source": "# 28. Differential sum\nfrom itertools import accumulate\nprint(list(accumulate(range(1,7), lambda a,b: a + (b%2 and -b or b))))"
    },
    {
      "cell_type": "markdown",
      "metadata": {},
      "source": "## کد 29: Counter برای تشخیص آناگرام‌های جزئی\nاشتراک چندمجموعه‌ای حروف بین دو واژه را می‌دهد.\n"
    },
    {
      "cell_type": "code",
      "metadata": {},
      "execution_count": null,
      "outputs": [],
      "source": "# 29. Partial anagram\nfrom collections import Counter\na,b=\"silent\",\"listens\"\nprint(Counter(a) & Counter(b))"
    },
    {
      "cell_type": "markdown",
      "metadata": {},
      "source": "## کد 30: ارباب صف با heapq و اولویت پویا\nاولویت کارها با سینوس زمان تعیین می‌شود.\n"
    },
    {
      "cell_type": "code",
      "metadata": {},
      "execution_count": null,
      "outputs": [],
      "source": "# 30. Dynamic priority queue\nimport heapq, math\ntasks=[(math.sin(k),f\"T{k}\") for k in range(6)]\nheapq.heapify(tasks); print(heapq.heappop(tasks)[1])"
    },
    {
      "cell_type": "markdown",
      "metadata": {},
      "source": "## کد 31: Decimal برای بازی با دقت\nنمایشی با دقت کنترل‌شده از تقسیم تولید می‌کند.\n"
    },
    {
      "cell_type": "code",
      "metadata": {},
      "execution_count": null,
      "outputs": [],
      "source": "# 31. Precision play\nfrom decimal import Decimal, getcontext\ngetcontext().prec=10\nx=Decimal(32)/Decimal(7)\nprint(str(x)[:12])"
    },
    {
      "cell_type": "markdown",
      "metadata": {},
      "source": "## کد 32: مسیرسازی نمادین با pathlib\nبدون دسترسی فایل، مسیرها را به شکل امن ترکیب می‌کند.\n"
    },
    {
      "cell_type": "code",
      "metadata": {},
      "execution_count": null,
      "outputs": [],
      "source": "# 32. Symbolic path mash\nfrom pathlib import PurePosixPath as P\np=P(\"/var\")/str(5)/\"log\"\nprint(p.with_suffix(\".txt\"))"
    },
    {
      "cell_type": "markdown",
      "metadata": {},
      "source": "## کد 33: ترکیب‌کنندهٔ چندتابع با reduce\nچند تابع را به ترتیب روی ورودی اعمال می‌کند.\n"
    },
    {
      "cell_type": "code",
      "metadata": {},
      "execution_count": null,
      "outputs": [],
      "source": "# 33. Multifun composer\nfrom functools import reduce\ndef compose(*fs): return reduce(lambda f,g: lambda x: f(g(x)), fs, lambda x:x)\nh=compose(lambda x:x+1, lambda x:x*2, lambda x:x**2)\nprint(h(3))"
    },
    {
      "cell_type": "markdown",
      "metadata": {},
      "source": "## کد 34: سری باینری با بیت‌وارگی رشته\nاز بیت‌های یک عدد سری وزن‌دار می‌سازد.\n"
    },
    {
      "cell_type": "code",
      "metadata": {},
      "execution_count": null,
      "outputs": [],
      "source": "# 34. Binary series\ns=bin(1163)[2:]\nprint(sum((i+1)*int(b) for i,b in enumerate(s)))"
    },
    {
      "cell_type": "markdown",
      "metadata": {},
      "source": "## کد 35: فشرده‌سازی run-length یک‌خطی\nبا groupby تکرارها را فشرده می‌کند.\n"
    },
    {
      "cell_type": "code",
      "metadata": {},
      "execution_count": null,
      "outputs": [],
      "source": "# 35. Run-length in one go\ns=\"aaabbbbccdde\"; out=[(c,len(list(g))) for c,g in it.groupby(s)]\nprint(out)"
    },
    {
      "cell_type": "markdown",
      "metadata": {},
      "source": "## کد 36: ترکیب zip_longest برای ساخت جدول نامتوازن\nدو توالی ناهمطول را با مقدار جایگزین می‌دوزد.\n"
    },
    {
      "cell_type": "code",
      "metadata": {},
      "execution_count": null,
      "outputs": [],
      "source": "# 36. Ragged table\nfrom itertools import zip_longest\nprint(list(zip_longest(\"abc\",\"12345\",fillvalue=\"_\")))"
    },
    {
      "cell_type": "markdown",
      "metadata": {},
      "source": "## کد 37: دکارتی مشروط با product\nفقط زوج‌هایی که XOR آنها فرد است را نگه می‌دارد.\n"
    },
    {
      "cell_type": "code",
      "metadata": {},
      "execution_count": null,
      "outputs": [],
      "source": "# 37. Conditional cartesian\nfrom itertools import product\nprint([(a,b) for a,b in product(range(4), repeat=2) if (a^b)&1])"
    },
    {
      "cell_type": "markdown",
      "metadata": {},
      "source": "## کد 38: نمایش ماتریسی با __str__ سفارشی\nچاپ ماتریس را زیبا می‌کند.\n"
    },
    {
      "cell_type": "code",
      "metadata": {},
      "execution_count": null,
      "outputs": [],
      "source": "# 38. Pretty matrix\nclass M:\n    def __init__(s,a): s.a=a\n    def __str__(s): return \"\\n\".join(\" \".join(map(str,r)) for r in s.a)\nprint(M([[i*j for j in range(3)] for i in range(3)]))"
    },
    {
      "cell_type": "markdown",
      "metadata": {},
      "source": "## کد 39: جست‌وجوی الگو با finditer و برعکس\nالگو را در رشتهٔ معکوس پیدا می‌کند.\n"
    },
    {
      "cell_type": "code",
      "metadata": {},
      "execution_count": null,
      "outputs": [],
      "source": "# 39. Reverse finditer\nimport re\ns=\"ababa\"\nprint([m.start() for m in re.finditer(\"aba\",s[::-1])])"
    },
    {
      "cell_type": "markdown",
      "metadata": {},
      "source": "## کد 40: یابندهٔ اعداد خوشحال کوچک\nاعداد خوشحال را با مجموعهٔ دیدها پیدا می‌کند.\n"
    },
    {
      "cell_type": "code",
      "metadata": {},
      "execution_count": null,
      "outputs": [],
      "source": "# 40. Tiny happy numbers\ndef happy(n,seen=set()): \n    if n==1: return True\n    if n in seen: return False\n    seen.add(n); return happy(sum(int(c)**2 for c in str(n)), seen)\nprint([x for x in range(2,50) if happy(x)])"
    },
    {
      "cell_type": "markdown",
      "metadata": {},
      "source": "## کد 41: آینه‌سازی اعداد با ضرب داخلی عجیب\nرشته معکوس عدد را می‌گیرد و حاصل ضرب جفت‌های متوالی را جمع می‌کند.\n"
    },
    {
      "cell_type": "code",
      "metadata": {},
      "execution_count": null,
      "outputs": [],
      "source": "# 41. Mirror-dot trick\nfrom itertools import pairwise\ns=str(41**2)[::-1]\nprint(sum(int(a)*int(b) for a,b in pairwise(\"0\"+s)))"
    },
    {
      "cell_type": "markdown",
      "metadata": {},
      "source": "## کد 42: نُت‌ساز تصادفی با ⁣itertools.cycle\nترکیب cycle با انتخاب تصادفی برای ساخت رشته‌ای از نُت‌ها.\n"
    },
    {
      "cell_type": "code",
      "metadata": {},
      "execution_count": null,
      "outputs": [],
      "source": "# 42. Tiny random note sequencer\nimport itertools, random\nnotes=list(\"CDEFGAB\"); rnd=random.Random(42)\nfor _ in range(12): print(rnd.choice(notes)+next(itertools.cycle(\"#b \")), end=\"\")"
    },
    {
      "cell_type": "markdown",
      "metadata": {},
      "source": "## کد 43: دیکشنریِ شمارشگرِ حروفِ اولِ کلمات\nبا کامپرهنشن تو در تو، تعداد کلمات هر حرف اول را می‌شمارد.\n"
    },
    {
      "cell_type": "code",
      "metadata": {},
      "execution_count": null,
      "outputs": [],
      "source": "# 43. First-letter histogram dict\ntext=\"خیال خامِ خَرامانِ 43\"\nd={k:sum(w.startswith(k) for w in text.split()) for k in set(w[0] for w in text.split())}\nprint(d)"
    },
    {
      "cell_type": "markdown",
      "metadata": {},
      "source": "## کد 44: فشرده‌ساز عددی با ⁣heapq\nیک هیپ می‌سازد و ۵ مقدار کمینهٔ فشرده‌شده را برمی‌دارد.\n"
    },
    {
      "cell_type": "code",
      "metadata": {},
      "execution_count": null,
      "outputs": [],
      "source": "# 44. Heap squeeze\nimport heapq; nums=[(x*x+44)%97 for x in range(15)]\nheapq.heapify(nums); print([heapq.heappop(nums) for _ in range(5)])"
    },
    {
      "cell_type": "markdown",
      "metadata": {},
      "source": "## کد 45: نویز هنری با ⁣fractions.Fraction\nبا کسرها الگوی نقطه/ستاره بر اساس زوج‌بودن می‌سازد.\n"
    },
    {
      "cell_type": "code",
      "metadata": {},
      "execution_count": null,
      "outputs": [],
      "source": "# 45. Fractional noise line\nfrom fractions import Fraction as F\nline=[F(k,6) for k in range(1,10)]\nprint(\"\".join(\".\" if v%2 else \"*\" for v in line))"
    },
    {
      "cell_type": "markdown",
      "metadata": {},
      "source": "## کد 46: مرتّب‌سازی دوگانه با ⁣bisect\nبا insort هر مقدار جدید را درج می‌کند و ماکزیمم لحظه‌ای را نشان می‌دهد.\n"
    },
    {
      "cell_type": "code",
      "metadata": {},
      "execution_count": null,
      "outputs": [],
      "source": "# 46. Dual insert sort\nimport bisect; arr=[]\nfor v in [(46%13*x)%37 for x in range(12)]: bisect.insort(arr,v); print(arr[-1],end=\" \")\nprint(\"\\n\",arr)"
    },
    {
      "cell_type": "markdown",
      "metadata": {},
      "source": "## کد 47: مدیریت‌گر زمینه: وارونه‌کنندهٔ چاپ\nبا context manager خروجی print را معکوس می‌کند.\n"
    },
    {
      "cell_type": "code",
      "metadata": {},
      "execution_count": null,
      "outputs": [],
      "source": "# 47. Context reverser\nimport contextlib, sys\n@contextlib.contextmanager\ndef reversed_print():\n    class W: \n        def write(self,s): sys.__stdout__.write(s[::-1])\n    old=sys.stdout; sys.stdout=W()\n    try: yield\n    finally: sys.stdout=old\nwith reversed_print(): print(\"Hello 47\")"
    },
    {
      "cell_type": "markdown",
      "metadata": {},
      "source": "## کد 48: دکوریتور: حافظهٔ حداقلی با کلید عجیب\nدنباله فیبوناچی مدولویی را با کش لایه انجام می‌دهد.\n"
    },
    {
      "cell_type": "code",
      "metadata": {},
      "execution_count": null,
      "outputs": [],
      "source": "# 48. Minimal memo by weird key\nfrom functools import lru_cache\n@lru_cache(maxsize=None)\ndef f(n,k=5): return 1 if n<2 else (f(n-1,k)+f(n-2,k))%k\nprint([f(x) for x in range(10)])"
    },
    {
      "cell_type": "markdown",
      "metadata": {},
      "source": "## کد 49: کلاس با عملگر @ به‌عنوان آمیختگر رشته\nمتد ویژه __matmul__ را برای آمیختن دو رشته به کار می‌گیرد.\n"
    },
    {
      "cell_type": "code",
      "metadata": {},
      "execution_count": null,
      "outputs": [],
      "source": "# 49. @ as string blender\nclass Blend:\n    def __matmul__(self,other): return \"\".join(a+b for a,b in zip(self.s,other.s))\n    def __init__(self,s): self.s=s\nprint( (Blend(\"abc2\") @ Blend(\"XYZ?\")).upper() )"
    },
    {
      "cell_type": "markdown",
      "metadata": {},
      "source": "## کد 50: ژنراتور زیگزاگ با برش‌های هوشمند\nدنباله‌ای رفت و برگشتی حول صفر تولید می‌کند.\n"
    },
    {
      "cell_type": "code",
      "metadata": {},
      "execution_count": null,
      "outputs": [],
      "source": "# 50. Zigzag generator\ndef zig(n): \n    for k in range(n): yield (-1)**k*(k//2)\nprint(list(it.islice(zig(13),10)))"
    },
    {
      "cell_type": "markdown",
      "metadata": {},
      "source": "## کد 51: کامپرهنشن نامتقارنِ مربع-مکعب\nشبکه‌ای از زوج‌های مربع و مکعب با شرط نامتقارن می‌سازد.\n"
    },
    {
      "cell_type": "code",
      "metadata": {},
      "execution_count": null,
      "outputs": [],
      "source": "# 51. Skewed squares-cubes grid\ngrid=[(x*x,y*y*y) for x in range(1,4) for y in range(x,4) if (x+y)%2]\nprint(grid)"
    },
    {
      "cell_type": "markdown",
      "metadata": {},
      "source": "## کد 52: واژه‌ساز پالین‌دروم با ⁣re.sub\nبا یک جایگزینی منظم، کلمه را به پالین‌دروم دوبله تبدیل می‌کند.\n"
    },
    {
      "cell_type": "code",
      "metadata": {},
      "execution_count": null,
      "outputs": [],
      "source": "# 52. Pal fixer\nimport re\nw=\"level\"\nprint(re.sub(r\"(.*)\",\"\\1\"+w[::-1],w))"
    },
    {
      "cell_type": "markdown",
      "metadata": {},
      "source": "## کد 53: میانگین‌های روندهٔ غیرخطی\nمیانگین هارمونیک تجمعی روی داده‌های مصنوعی محاسبه می‌کند.\n"
    },
    {
      "cell_type": "code",
      "metadata": {},
      "execution_count": null,
      "outputs": [],
      "source": "# 53. Nonlinear rolling mean\nimport statistics as st\ndata=[(k*k+53)%50 for k in range(1,12)]\nprint([round(st.harmonic_mean(data[:k]),2) for k in range(2,len(data)+1)])"
    },
    {
      "cell_type": "markdown",
      "metadata": {},
      "source": "## کد 54: دیکشنریِ تو در تو برای مثلث خیالی\nمثلثی از دیکشنری‌ها و جمع کل مقادیر را می‌سازد.\n"
    },
    {
      "cell_type": "code",
      "metadata": {},
      "execution_count": null,
      "outputs": [],
      "source": "# 54. Nested dict triangle\ntri={i:{j:(i+j)%7 for j in range(i+1)} for i in range(5)}\nprint(tri[3][2], sum(map(sum,(d.values() for d in tri.values()))))"
    },
    {
      "cell_type": "markdown",
      "metadata": {},
      "source": "## کد 55: مدیریت خطای شاعرانه با contextlib.suppress\nبا suppress خطای تقسیم بر صفر احتمالی را می‌بلعد.\n"
    },
    {
      "cell_type": "code",
      "metadata": {},
      "execution_count": null,
      "outputs": [],
      "source": "# 55. Poetic suppress\nfrom contextlib import suppress\nwith suppress(ZeroDivisionError):\n    print(\"silence:\", 1/1-1)"
    },
    {
      "cell_type": "markdown",
      "metadata": {},
      "source": "## کد 56: دکوریتور کندکنندهٔ مشروط\nدکوریتوری که گاهی مکثی کوتاه ایجاد می‌کند.\n"
    },
    {
      "cell_type": "code",
      "metadata": {},
      "execution_count": null,
      "outputs": [],
      "source": "# 56. Conditional slow-down\nimport time, functools\ndef slow(f): \n    @functools.wraps(f)\n    def g(*a,**k): \n        time.sleep(0 if 56%3 else 0.01); return f(*a,**k)\n    return g\n@slow\ndef add(x,y): return x+y\nprint(add(0,1))"
    },
    {
      "cell_type": "markdown",
      "metadata": {},
      "source": "## کد 57: کلاس قابلِ وارون‌سازی با ~\nعملگر ~ را برای برعکس کردن نمایش رشته‌ای مقدار پیاده می‌کند.\n"
    },
    {
      "cell_type": "code",
      "metadata": {},
      "execution_count": null,
      "outputs": [],
      "source": "# 57. Invertible object\nclass Flip:\n    def __init__(self,v): self.v=v\n    def __invert__(self): return Flip(str(self.v)[::-1])\n    def __repr__(self): return f\"Flip({self.v})\"\nprint(~Flip(3249))"
    },
    {
      "cell_type": "markdown",
      "metadata": {},
      "source": "## کد 58: مینی DSL جمعی با __call__\nکلاسی که با فراخوانی‌های زنجیره‌ای مجموع را نگه می‌دارد.\n"
    },
    {
      "cell_type": "code",
      "metadata": {},
      "execution_count": null,
      "outputs": [],
      "source": "# 58. Tiny DSL\nclass S:\n    def __init__(self): self.t=0\n    def __call__(self,*xs): self.t+=sum(xs); return self\n    def __repr__(self): return f\"Σ={self.t}\"\nprint(S()(1,4,3)(4)(-2))"
    },
    {
      "cell_type": "markdown",
      "metadata": {},
      "source": "## کد 59: گراف فشرده با defaultdict و zip\nیک گراف جهت‌دار حلقوی ساده به طور فشرده می‌سازد.\n"
    },
    {
      "cell_type": "code",
      "metadata": {},
      "execution_count": null,
      "outputs": [],
      "source": "# 59. Compact graph\nfrom collections import defaultdict\ng=defaultdict(list); edges=list(zip(\"abcd\",\"bcda\"))\nfor a,b in edges: g[a].append(b)\nprint(dict(g))"
    },
    {
      "cell_type": "markdown",
      "metadata": {},
      "source": "## کد 60: ماهی‌گیر الگو با enumerate و slicing\nاندیس‌های الگوهای خاص را در رشته‌ای پیدا می‌کند.\n"
    },
    {
      "cell_type": "code",
      "metadata": {},
      "execution_count": null,
      "outputs": [],
      "source": "# 60. Pattern fisher\ns=\"--><><<><>\"*2\nhits=[i for i,ch in enumerate(s) if s[i:i+3] in (\"><>\", \"<>\")]\nprint(hits)"
    },
    {
      "cell_type": "markdown",
      "metadata": {},
      "source": "## کد 61: ترکیب‌گر lambda برای فیلترهای چندمرحله‌ای\nسه آزمون را با هم ترکیب کرده و اعداد گذرندهٔ دقیقاً دو شرط را می‌یابد.\n"
    },
    {
      "cell_type": "code",
      "metadata": {},
      "execution_count": null,
      "outputs": [],
      "source": "# 61. Lambda combiner\nfs=[lambda x:x%2, lambda x:x%3, lambda x:x>5]\nprint([x for x in range(15) if sum(f(x)==0 for f in fs)==2])"
    },
    {
      "cell_type": "markdown",
      "metadata": {},
      "source": "## کد 62: چرخش لایه‌ای دیکشنری\nبرای هر کلید سه‌تاییِ همسایه‌های دورانی می‌سازد.\n"
    },
    {
      "cell_type": "code",
      "metadata": {},
      "execution_count": null,
      "outputs": [],
      "source": "# 62. Layered dict rotate\nd={k:62+k for k in range(5)}\nrot={k:(d[(k-1)%5],d[k],d[(k+1)%5]) for k in d}\nprint(rot[2])"
    },
    {
      "cell_type": "markdown",
      "metadata": {},
      "source": "## کد 63: انتخابگر غیرخطی با bisect و جمع پیشوندی\nبا اوزان نامتقارن، اندیس‌های انتخاب‌شده را می‌سازد.\n"
    },
    {
      "cell_type": "code",
      "metadata": {},
      "execution_count": null,
      "outputs": [],
      "source": "# 63. Nonlinear picker\nimport bisect\nw=[k*k%7+1 for k in range(1,8)]\npref=[0]\nfor x in w: pref.append(pref[-1]+x)\npick=lambda r: bisect.bisect(pref,r%pref[-1])-1\nprint([pick(k+63) for k in range(10)])"
    },
    {
      "cell_type": "markdown",
      "metadata": {},
      "source": "## کد 64: فهرست‌ساز دیوانه با map و set\nبا map و set مقادیر یکتا از تبدیل مدولویی تولید می‌کند.\n"
    },
    {
      "cell_type": "code",
      "metadata": {},
      "execution_count": null,
      "outputs": [],
      "source": "# 64. Mad lister\nxs=set(map(lambda x:(x*6)%11, range(12)))\nprint(sorted(xs))"
    },
    {
      "cell_type": "markdown",
      "metadata": {},
      "source": "## کد 65: کانتکست‌منیجر شمارندهٔ print\nبه طور موقت print را می‌پیچد و دفعات فراخوانی را می‌شمارد.\n"
    },
    {
      "cell_type": "code",
      "metadata": {},
      "execution_count": null,
      "outputs": [],
      "source": "# 65. Print counter\nimport contextlib, builtins\n@contextlib.contextmanager\ndef count_print():\n    c={\"n\":0}; old=builtins.print\n    def p(*a,**k): c[\"n\"]+=1; return old(*a,**k)\n    builtins.print=p; \n    try: yield c\n    finally: builtins.print=old\nwith count_print() as C: print(\"x\"); print(65); print(C[\"n\"])"
    },
    {
      "cell_type": "markdown",
      "metadata": {},
      "source": "## کد 66: minimax کوچک با functools.reduce\nحداقل و حداکثر را در یک عبور با reduce می‌یابد.\n"
    },
    {
      "cell_type": "code",
      "metadata": {},
      "execution_count": null,
      "outputs": [],
      "source": "# 66. Tiny minimax\nfrom functools import reduce\nseq=[(x*4)%17 for x in range(8)]\nprint(reduce(lambda a,b:(min(a,b),max(a,b)),seq))"
    },
    {
      "cell_type": "markdown",
      "metadata": {},
      "source": "## کد 67: کلاس قابلِ اسلاید با __getitem__\nبرش روی شی را جابجایی دورانی رشته معنی می‌کند.\n"
    },
    {
      "cell_type": "code",
      "metadata": {},
      "execution_count": null,
      "outputs": [],
      "source": "# 67. Slideable\nclass Slide:\n    def __init__(self,s): self.s=s\n    def __getitem__(self,k): return self.s[k:]+self.s[:k]\nprint(Slide(\"HELLO\")[2])"
    },
    {
      "cell_type": "markdown",
      "metadata": {},
      "source": "## کد 68: جمع دیفرانسیلی با accumulate عجیب\nاعداد زوج را جمع و فردها را کم می‌کند.\n"
    },
    {
      "cell_type": "code",
      "metadata": {},
      "execution_count": null,
      "outputs": [],
      "source": "# 68. Differential sum\nfrom itertools import accumulate\nprint(list(accumulate(range(1,7), lambda a,b: a + (b%2 and -b or b))))"
    },
    {
      "cell_type": "markdown",
      "metadata": {},
      "source": "## کد 69: Counter برای تشخیص آناگرام‌های جزئی\nاشتراک چندمجموعه‌ای حروف بین دو واژه را می‌دهد.\n"
    },
    {
      "cell_type": "code",
      "metadata": {},
      "execution_count": null,
      "outputs": [],
      "source": "# 69. Partial anagram\nfrom collections import Counter\na,b=\"silent\",\"listens\"\nprint(Counter(a) & Counter(b))"
    },
    {
      "cell_type": "markdown",
      "metadata": {},
      "source": "## کد 70: ارباب صف با heapq و اولویت پویا\nاولویت کارها با سینوس زمان تعیین می‌شود.\n"
    },
    {
      "cell_type": "code",
      "metadata": {},
      "execution_count": null,
      "outputs": [],
      "source": "# 70. Dynamic priority queue\nimport heapq, math\ntasks=[(math.sin(k),f\"T{k}\") for k in range(6)]\nheapq.heapify(tasks); print(heapq.heappop(tasks)[1])"
    },
    {
      "cell_type": "markdown",
      "metadata": {},
      "source": "## کد 71: Decimal برای بازی با دقت\nنمایشی با دقت کنترل‌شده از تقسیم تولید می‌کند.\n"
    },
    {
      "cell_type": "code",
      "metadata": {},
      "execution_count": null,
      "outputs": [],
      "source": "# 71. Precision play\nfrom decimal import Decimal, getcontext\ngetcontext().prec=10\nx=Decimal(72)/Decimal(7)\nprint(str(x)[:12])"
    },
    {
      "cell_type": "markdown",
      "metadata": {},
      "source": "## کد 72: مسیرسازی نمادین با pathlib\nبدون دسترسی فایل، مسیرها را به شکل امن ترکیب می‌کند.\n"
    },
    {
      "cell_type": "code",
      "metadata": {},
      "execution_count": null,
      "outputs": [],
      "source": "# 72. Symbolic path mash\nfrom pathlib import PurePosixPath as P\np=P(\"/var\")/str(0)/\"log\"\nprint(p.with_suffix(\".txt\"))"
    },
    {
      "cell_type": "markdown",
      "metadata": {},
      "source": "## کد 73: ترکیب‌کنندهٔ چندتابع با reduce\nچند تابع را به ترتیب روی ورودی اعمال می‌کند.\n"
    },
    {
      "cell_type": "code",
      "metadata": {},
      "execution_count": null,
      "outputs": [],
      "source": "# 73. Multifun composer\nfrom functools import reduce\ndef compose(*fs): return reduce(lambda f,g: lambda x: f(g(x)), fs, lambda x:x)\nh=compose(lambda x:x+1, lambda x:x*2, lambda x:x**2)\nprint(h(3))"
    },
    {
      "cell_type": "markdown",
      "metadata": {},
      "source": "## کد 74: سری باینری با بیت‌وارگی رشته\nاز بیت‌های یک عدد سری وزن‌دار می‌سازد.\n"
    },
    {
      "cell_type": "code",
      "metadata": {},
      "execution_count": null,
      "outputs": [],
      "source": "# 74. Binary series\ns=bin(5483)[2:]\nprint(sum((i+1)*int(b) for i,b in enumerate(s)))"
    },
    {
      "cell_type": "markdown",
      "metadata": {},
      "source": "## کد 75: فشرده‌سازی run-length یک‌خطی\nبا groupby تکرارها را فشرده می‌کند.\n"
    },
    {
      "cell_type": "code",
      "metadata": {},
      "execution_count": null,
      "outputs": [],
      "source": "# 75. Run-length in one go\ns=\"aaabbbbccdde\"; out=[(c,len(list(g))) for c,g in it.groupby(s)]\nprint(out)"
    },
    {
      "cell_type": "markdown",
      "metadata": {},
      "source": "## کد 76: ترکیب zip_longest برای ساخت جدول نامتوازن\nدو توالی ناهمطول را با مقدار جایگزین می‌دوزد.\n"
    },
    {
      "cell_type": "code",
      "metadata": {},
      "execution_count": null,
      "outputs": [],
      "source": "# 76. Ragged table\nfrom itertools import zip_longest\nprint(list(zip_longest(\"abc\",\"12345\",fillvalue=\"_\")))"
    },
    {
      "cell_type": "markdown",
      "metadata": {},
      "source": "## کد 77: دکارتی مشروط با product\nفقط زوج‌هایی که XOR آنها فرد است را نگه می‌دارد.\n"
    },
    {
      "cell_type": "code",
      "metadata": {},
      "execution_count": null,
      "outputs": [],
      "source": "# 77. Conditional cartesian\nfrom itertools import product\nprint([(a,b) for a,b in product(range(4), repeat=2) if (a^b)&1])"
    },
    {
      "cell_type": "markdown",
      "metadata": {},
      "source": "## کد 78: نمایش ماتریسی با __str__ سفارشی\nچاپ ماتریس را زیبا می‌کند.\n"
    },
    {
      "cell_type": "code",
      "metadata": {},
      "execution_count": null,
      "outputs": [],
      "source": "# 78. Pretty matrix\nclass M:\n    def __init__(s,a): s.a=a\n    def __str__(s): return \"\\n\".join(\" \".join(map(str,r)) for r in s.a)\nprint(M([[i*j for j in range(3)] for i in range(3)]))"
    },
    {
      "cell_type": "markdown",
      "metadata": {},
      "source": "## کد 79: جست‌وجوی الگو با finditer و برعکس\nالگو را در رشتهٔ معکوس پیدا می‌کند.\n"
    },
    {
      "cell_type": "code",
      "metadata": {},
      "execution_count": null,
      "outputs": [],
      "source": "# 79. Reverse finditer\nimport re\ns=\"abababa\"\nprint([m.start() for m in re.finditer(\"aba\",s[::-1])])"
    },
    {
      "cell_type": "markdown",
      "metadata": {},
      "source": "## کد 80: یابندهٔ اعداد خوشحال کوچک\nاعداد خوشحال را با مجموعهٔ دیدها پیدا می‌کند.\n"
    },
    {
      "cell_type": "code",
      "metadata": {},
      "execution_count": null,
      "outputs": [],
      "source": "# 80. Tiny happy numbers\ndef happy(n,seen=set()): \n    if n==1: return True\n    if n in seen: return False\n    seen.add(n); return happy(sum(int(c)**2 for c in str(n)), seen)\nprint([x for x in range(2,50) if happy(x)])"
    },
    {
      "cell_type": "markdown",
      "metadata": {},
      "source": "## کد 81: آینه‌سازی اعداد با ضرب داخلی عجیب\nرشته معکوس عدد را می‌گیرد و حاصل ضرب جفت‌های متوالی را جمع می‌کند.\n"
    },
    {
      "cell_type": "code",
      "metadata": {},
      "execution_count": null,
      "outputs": [],
      "source": "# 81. Mirror-dot trick\nfrom itertools import pairwise\ns=str(81**2)[::-1]\nprint(sum(int(a)*int(b) for a,b in pairwise(\"0\"+s)))"
    },
    {
      "cell_type": "markdown",
      "metadata": {},
      "source": "## کد 82: نُت‌ساز تصادفی با ⁣itertools.cycle\nترکیب cycle با انتخاب تصادفی برای ساخت رشته‌ای از نُت‌ها.\n"
    },
    {
      "cell_type": "code",
      "metadata": {},
      "execution_count": null,
      "outputs": [],
      "source": "# 82. Tiny random note sequencer\nimport itertools, random\nnotes=list(\"CDEFGAB\"); rnd=random.Random(82)\nfor _ in range(12): print(rnd.choice(notes)+next(itertools.cycle(\"#b \")), end=\"\")"
    },
    {
      "cell_type": "markdown",
      "metadata": {},
      "source": "## کد 83: دیکشنریِ شمارشگرِ حروفِ اولِ کلمات\nبا کامپرهنشن تو در تو، تعداد کلمات هر حرف اول را می‌شمارد.\n"
    },
    {
      "cell_type": "code",
      "metadata": {},
      "execution_count": null,
      "outputs": [],
      "source": "# 83. First-letter histogram dict\ntext=\"خیال خامِ خَرامانِ 83\"\nd={k:sum(w.startswith(k) for w in text.split()) for k in set(w[0] for w in text.split())}\nprint(d)"
    },
    {
      "cell_type": "markdown",
      "metadata": {},
      "source": "## کد 84: فشرده‌ساز عددی با ⁣heapq\nیک هیپ می‌سازد و ۵ مقدار کمینهٔ فشرده‌شده را برمی‌دارد.\n"
    },
    {
      "cell_type": "code",
      "metadata": {},
      "execution_count": null,
      "outputs": [],
      "source": "# 84. Heap squeeze\nimport heapq; nums=[(x*x+84)%97 for x in range(15)]\nheapq.heapify(nums); print([heapq.heappop(nums) for _ in range(5)])"
    },
    {
      "cell_type": "markdown",
      "metadata": {},
      "source": "## کد 85: نویز هنری با ⁣fractions.Fraction\nبا کسرها الگوی نقطه/ستاره بر اساس زوج‌بودن می‌سازد.\n"
    },
    {
      "cell_type": "code",
      "metadata": {},
      "execution_count": null,
      "outputs": [],
      "source": "# 85. Fractional noise line\nfrom fractions import Fraction as F\nline=[F(k,4) for k in range(1,10)]\nprint(\"\".join(\".\" if v%2 else \"*\" for v in line))"
    },
    {
      "cell_type": "markdown",
      "metadata": {},
      "source": "## کد 86: مرتّب‌سازی دوگانه با ⁣bisect\nبا insort هر مقدار جدید را درج می‌کند و ماکزیمم لحظه‌ای را نشان می‌دهد.\n"
    },
    {
      "cell_type": "code",
      "metadata": {},
      "execution_count": null,
      "outputs": [],
      "source": "# 86. Dual insert sort\nimport bisect; arr=[]\nfor v in [(86%13*x)%37 for x in range(12)]: bisect.insort(arr,v); print(arr[-1],end=\" \")\nprint(\"\\n\",arr)"
    },
    {
      "cell_type": "markdown",
      "metadata": {},
      "source": "## کد 87: مدیریت‌گر زمینه: وارونه‌کنندهٔ چاپ\nبا context manager خروجی print را معکوس می‌کند.\n"
    },
    {
      "cell_type": "code",
      "metadata": {},
      "execution_count": null,
      "outputs": [],
      "source": "# 87. Context reverser\nimport contextlib, sys\n@contextlib.contextmanager\ndef reversed_print():\n    class W: \n        def write(self,s): sys.__stdout__.write(s[::-1])\n    old=sys.stdout; sys.stdout=W()\n    try: yield\n    finally: sys.stdout=old\nwith reversed_print(): print(\"Hello 87\")"
    },
    {
      "cell_type": "markdown",
      "metadata": {},
      "source": "## کد 88: دکوریتور: حافظهٔ حداقلی با کلید عجیب\nدنباله فیبوناچی مدولویی را با کش لایه انجام می‌دهد.\n"
    },
    {
      "cell_type": "code",
      "metadata": {},
      "execution_count": null,
      "outputs": [],
      "source": "# 88. Minimal memo by weird key\nfrom functools import lru_cache\n@lru_cache(maxsize=None)\ndef f(n,k=5): return 1 if n<2 else (f(n-1,k)+f(n-2,k))%k\nprint([f(x) for x in range(10)])"
    },
    {
      "cell_type": "markdown",
      "metadata": {},
      "source": "## کد 89: کلاس با عملگر @ به‌عنوان آمیختگر رشته\nمتد ویژه __matmul__ را برای آمیختن دو رشته به کار می‌گیرد.\n"
    },
    {
      "cell_type": "code",
      "metadata": {},
      "execution_count": null,
      "outputs": [],
      "source": "# 89. @ as string blender\nclass Blend:\n    def __matmul__(self,other): return \"\".join(a+b for a,b in zip(self.s,other.s))\n    def __init__(self,s): self.s=s\nprint( (Blend(\"abc3\") @ Blend(\"XYZ?\")).upper() )"
    },
    {
      "cell_type": "markdown",
      "metadata": {},
      "source": "## کد 90: ژنراتور زیگزاگ با برش‌های هوشمند\nدنباله‌ای رفت و برگشتی حول صفر تولید می‌کند.\n"
    },
    {
      "cell_type": "code",
      "metadata": {},
      "execution_count": null,
      "outputs": [],
      "source": "# 90. Zigzag generator\ndef zig(n): \n    for k in range(n): yield (-1)**k*(k//2)\nprint(list(it.islice(zig(8),10)))"
    },
    {
      "cell_type": "markdown",
      "metadata": {},
      "source": "## کد 91: کامپرهنشن نامتقارنِ مربع-مکعب\nشبکه‌ای از زوج‌های مربع و مکعب با شرط نامتقارن می‌سازد.\n"
    },
    {
      "cell_type": "code",
      "metadata": {},
      "execution_count": null,
      "outputs": [],
      "source": "# 91. Skewed squares-cubes grid\ngrid=[(x*x,y*y*y) for x in range(1,4) for y in range(x,4) if (x+y)%2]\nprint(grid)"
    },
    {
      "cell_type": "markdown",
      "metadata": {},
      "source": "## کد 92: واژه‌ساز پالین‌دروم با ⁣re.sub\nبا یک جایگزینی منظم، کلمه را به پالین‌دروم دوبله تبدیل می‌کند.\n"
    },
    {
      "cell_type": "code",
      "metadata": {},
      "execution_count": null,
      "outputs": [],
      "source": "# 92. Pal fixer\nimport re\nw=\"level\"\nprint(re.sub(r\"(.*)\",\"\\1\"+w[::-1],w))"
    },
    {
      "cell_type": "markdown",
      "metadata": {},
      "source": "## کد 93: میانگین‌های روندهٔ غیرخطی\nمیانگین هارمونیک تجمعی روی داده‌های مصنوعی محاسبه می‌کند.\n"
    },
    {
      "cell_type": "code",
      "metadata": {},
      "execution_count": null,
      "outputs": [],
      "source": "# 93. Nonlinear rolling mean\nimport statistics as st\ndata=[(k*k+93)%50 for k in range(1,12)]\nprint([round(st.harmonic_mean(data[:k]),2) for k in range(2,len(data)+1)])"
    },
    {
      "cell_type": "markdown",
      "metadata": {},
      "source": "## کد 94: دیکشنریِ تو در تو برای مثلث خیالی\nمثلثی از دیکشنری‌ها و جمع کل مقادیر را می‌سازد.\n"
    },
    {
      "cell_type": "code",
      "metadata": {},
      "execution_count": null,
      "outputs": [],
      "source": "# 94. Nested dict triangle\ntri={i:{j:(i+j)%7 for j in range(i+1)} for i in range(5)}\nprint(tri[3][2], sum(map(sum,(d.values() for d in tri.values()))))"
    },
    {
      "cell_type": "markdown",
      "metadata": {},
      "source": "## کد 95: مدیریت خطای شاعرانه با contextlib.suppress\nبا suppress خطای تقسیم بر صفر احتمالی را می‌بلعد.\n"
    },
    {
      "cell_type": "code",
      "metadata": {},
      "execution_count": null,
      "outputs": [],
      "source": "# 95. Poetic suppress\nfrom contextlib import suppress\nwith suppress(ZeroDivisionError):\n    print(\"silence:\", 1/1-1)"
    },
    {
      "cell_type": "markdown",
      "metadata": {},
      "source": "## کد 96: دکوریتور کندکنندهٔ مشروط\nدکوریتوری که گاهی مکثی کوتاه ایجاد می‌کند.\n"
    },
    {
      "cell_type": "code",
      "metadata": {},
      "execution_count": null,
      "outputs": [],
      "source": "# 96. Conditional slow-down\nimport time, functools\ndef slow(f): \n    @functools.wraps(f)\n    def g(*a,**k): \n        time.sleep(0 if 96%3 else 0.01); return f(*a,**k)\n    return g\n@slow\ndef add(x,y): return x+y\nprint(add(5,1))"
    },
    {
      "cell_type": "markdown",
      "metadata": {},
      "source": "## کد 97: کلاس قابلِ وارون‌سازی با ~\nعملگر ~ را برای برعکس کردن نمایش رشته‌ای مقدار پیاده می‌کند.\n"
    },
    {
      "cell_type": "code",
      "metadata": {},
      "execution_count": null,
      "outputs": [],
      "source": "# 97. Invertible object\nclass Flip:\n    def __init__(self,v): self.v=v\n    def __invert__(self): return Flip(str(self.v)[::-1])\n    def __repr__(self): return f\"Flip({self.v})\"\nprint(~Flip(9409))"
    },
    {
      "cell_type": "markdown",
      "metadata": {},
      "source": "## کد 98: مینی DSL جمعی با __call__\nکلاسی که با فراخوانی‌های زنجیره‌ای مجموع را نگه می‌دارد.\n"
    },
    {
      "cell_type": "code",
      "metadata": {},
      "execution_count": null,
      "outputs": [],
      "source": "# 98. Tiny DSL\nclass S:\n    def __init__(self): self.t=0\n    def __call__(self,*xs): self.t+=sum(xs); return self\n    def __repr__(self): return f\"Σ={self.t}\"\nprint(S()(1,8,3)(4)(-2))"
    },
    {
      "cell_type": "markdown",
      "metadata": {},
      "source": "## کد 99: گراف فشرده با defaultdict و zip\nیک گراف جهت‌دار حلقوی ساده به طور فشرده می‌سازد.\n"
    },
    {
      "cell_type": "code",
      "metadata": {},
      "execution_count": null,
      "outputs": [],
      "source": "# 99. Compact graph\nfrom collections import defaultdict\ng=defaultdict(list); edges=list(zip(\"abcd\",\"bcda\"))\nfor a,b in edges: g[a].append(b)\nprint(dict(g))"
    },
    {
      "cell_type": "markdown",
      "metadata": {},
      "source": "## کد 100: ماهی‌گیر الگو با enumerate و slicing\nاندیس‌های الگوهای خاص را در رشته‌ای پیدا می‌کند.\n"
    },
    {
      "cell_type": "code",
      "metadata": {},
      "execution_count": null,
      "outputs": [],
      "source": "# 100. Pattern fisher\ns=\"--><><<><>\"*2\nhits=[i for i,ch in enumerate(s) if s[i:i+3] in (\"><>\", \"<>\")]\nprint(hits)"
    },
    {
      "cell_type": "markdown",
      "metadata": {},
      "source": "## کد 101: ترکیب‌گر lambda برای فیلترهای چندمرحله‌ای\nسه آزمون را با هم ترکیب کرده و اعداد گذرندهٔ دقیقاً دو شرط را می‌یابد.\n"
    },
    {
      "cell_type": "code",
      "metadata": {},
      "execution_count": null,
      "outputs": [],
      "source": "# 101. Lambda combiner\nfs=[lambda x:x%2, lambda x:x%3, lambda x:x>3]\nprint([x for x in range(15) if sum(f(x)==0 for f in fs)==2])"
    },
    {
      "cell_type": "markdown",
      "metadata": {},
      "source": "## کد 102: چرخش لایه‌ای دیکشنری\nبرای هر کلید سه‌تاییِ همسایه‌های دورانی می‌سازد.\n"
    },
    {
      "cell_type": "code",
      "metadata": {},
      "execution_count": null,
      "outputs": [],
      "source": "# 102. Layered dict rotate\nd={k:102+k for k in range(5)}\nrot={k:(d[(k-1)%5],d[k],d[(k+1)%5]) for k in d}\nprint(rot[2])"
    },
    {
      "cell_type": "markdown",
      "metadata": {},
      "source": "## کد 103: انتخابگر غیرخطی با bisect و جمع پیشوندی\nبا اوزان نامتقارن، اندیس‌های انتخاب‌شده را می‌سازد.\n"
    },
    {
      "cell_type": "code",
      "metadata": {},
      "execution_count": null,
      "outputs": [],
      "source": "# 103. Nonlinear picker\nimport bisect\nw=[k*k%7+1 for k in range(1,8)]\npref=[0]\nfor x in w: pref.append(pref[-1]+x)\npick=lambda r: bisect.bisect(pref,r%pref[-1])-1\nprint([pick(k+103) for k in range(10)])"
    },
    {
      "cell_type": "markdown",
      "metadata": {},
      "source": "## کد 104: فهرست‌ساز دیوانه با map و set\nبا map و set مقادیر یکتا از تبدیل مدولویی تولید می‌کند.\n"
    },
    {
      "cell_type": "code",
      "metadata": {},
      "execution_count": null,
      "outputs": [],
      "source": "# 104. Mad lister\nxs=set(map(lambda x:(x*6)%11, range(12)))\nprint(sorted(xs))"
    },
    {
      "cell_type": "markdown",
      "metadata": {},
      "source": "## کد 105: کانتکست‌منیجر شمارندهٔ print\nبه طور موقت print را می‌پیچد و دفعات فراخوانی را می‌شمارد.\n"
    },
    {
      "cell_type": "code",
      "metadata": {},
      "execution_count": null,
      "outputs": [],
      "source": "# 105. Print counter\nimport contextlib, builtins\n@contextlib.contextmanager\ndef count_print():\n    c={\"n\":0}; old=builtins.print\n    def p(*a,**k): c[\"n\"]+=1; return old(*a,**k)\n    builtins.print=p; \n    try: yield c\n    finally: builtins.print=old\nwith count_print() as C: print(\"x\"); print(105); print(C[\"n\"])"
    },
    {
      "cell_type": "markdown",
      "metadata": {},
      "source": "## کد 106: minimax کوچک با functools.reduce\nحداقل و حداکثر را در یک عبور با reduce می‌یابد.\n"
    },
    {
      "cell_type": "code",
      "metadata": {},
      "execution_count": null,
      "outputs": [],
      "source": "# 106. Tiny minimax\nfrom functools import reduce\nseq=[(x*8)%17 for x in range(8)]\nprint(reduce(lambda a,b:(min(a,b),max(a,b)),seq))"
    },
    {
      "cell_type": "markdown",
      "metadata": {},
      "source": "## کد 107: کلاس قابلِ اسلاید با __getitem__\nبرش روی شی را جابجایی دورانی رشته معنی می‌کند.\n"
    },
    {
      "cell_type": "code",
      "metadata": {},
      "execution_count": null,
      "outputs": [],
      "source": "# 107. Slideable\nclass Slide:\n    def __init__(self,s): self.s=s\n    def __getitem__(self,k): return self.s[k:]+self.s[:k]\nprint(Slide(\"HELLO\")[2])"
    },
    {
      "cell_type": "markdown",
      "metadata": {},
      "source": "## کد 108: جمع دیفرانسیلی با accumulate عجیب\nاعداد زوج را جمع و فردها را کم می‌کند.\n"
    },
    {
      "cell_type": "code",
      "metadata": {},
      "execution_count": null,
      "outputs": [],
      "source": "# 108. Differential sum\nfrom itertools import accumulate\nprint(list(accumulate(range(1,7), lambda a,b: a + (b%2 and -b or b))))"
    },
    {
      "cell_type": "markdown",
      "metadata": {},
      "source": "## کد 109: Counter برای تشخیص آناگرام‌های جزئی\nاشتراک چندمجموعه‌ای حروف بین دو واژه را می‌دهد.\n"
    },
    {
      "cell_type": "code",
      "metadata": {},
      "execution_count": null,
      "outputs": [],
      "source": "# 109. Partial anagram\nfrom collections import Counter\na,b=\"silent\",\"listens\"\nprint(Counter(a) & Counter(b))"
    },
    {
      "cell_type": "markdown",
      "metadata": {},
      "source": "## کد 110: ارباب صف با heapq و اولویت پویا\nاولویت کارها با سینوس زمان تعیین می‌شود.\n"
    },
    {
      "cell_type": "code",
      "metadata": {},
      "execution_count": null,
      "outputs": [],
      "source": "# 110. Dynamic priority queue\nimport heapq, math\ntasks=[(math.sin(k),f\"T{k}\") for k in range(6)]\nheapq.heapify(tasks); print(heapq.heappop(tasks)[1])"
    },
    {
      "cell_type": "markdown",
      "metadata": {},
      "source": "## کد 111: Decimal برای بازی با دقت\nنمایشی با دقت کنترل‌شده از تقسیم تولید می‌کند.\n"
    },
    {
      "cell_type": "code",
      "metadata": {},
      "execution_count": null,
      "outputs": [],
      "source": "# 111. Precision play\nfrom decimal import Decimal, getcontext\ngetcontext().prec=10\nx=Decimal(112)/Decimal(7)\nprint(str(x)[:12])"
    },
    {
      "cell_type": "markdown",
      "metadata": {},
      "source": "## کد 112: مسیرسازی نمادین با pathlib\nبدون دسترسی فایل، مسیرها را به شکل امن ترکیب می‌کند.\n"
    },
    {
      "cell_type": "code",
      "metadata": {},
      "execution_count": null,
      "outputs": [],
      "source": "# 112. Symbolic path mash\nfrom pathlib import PurePosixPath as P\np=P(\"/var\")/str(4)/\"log\"\nprint(p.with_suffix(\".txt\"))"
    },
    {
      "cell_type": "markdown",
      "metadata": {},
      "source": "## کد 113: ترکیب‌کنندهٔ چندتابع با reduce\nچند تابع را به ترتیب روی ورودی اعمال می‌کند.\n"
    },
    {
      "cell_type": "code",
      "metadata": {},
      "execution_count": null,
      "outputs": [],
      "source": "# 113. Multifun composer\nfrom functools import reduce\ndef compose(*fs): return reduce(lambda f,g: lambda x: f(g(x)), fs, lambda x:x)\nh=compose(lambda x:x+1, lambda x:x*2, lambda x:x**2)\nprint(h(3))"
    },
    {
      "cell_type": "markdown",
      "metadata": {},
      "source": "## کد 114: سری باینری با بیت‌وارگی رشته\nاز بیت‌های یک عدد سری وزن‌دار می‌سازد.\n"
    },
    {
      "cell_type": "code",
      "metadata": {},
      "execution_count": null,
      "outputs": [],
      "source": "# 114. Binary series\ns=bin(13003)[2:]\nprint(sum((i+1)*int(b) for i,b in enumerate(s)))"
    },
    {
      "cell_type": "markdown",
      "metadata": {},
      "source": "## کد 115: فشرده‌سازی run-length یک‌خطی\nبا groupby تکرارها را فشرده می‌کند.\n"
    },
    {
      "cell_type": "code",
      "metadata": {},
      "execution_count": null,
      "outputs": [],
      "source": "# 115. Run-length in one go\ns=\"aaabbbbccdde\"; out=[(c,len(list(g))) for c,g in it.groupby(s)]\nprint(out)"
    },
    {
      "cell_type": "markdown",
      "metadata": {},
      "source": "## کد 116: ترکیب zip_longest برای ساخت جدول نامتوازن\nدو توالی ناهمطول را با مقدار جایگزین می‌دوزد.\n"
    },
    {
      "cell_type": "code",
      "metadata": {},
      "execution_count": null,
      "outputs": [],
      "source": "# 116. Ragged table\nfrom itertools import zip_longest\nprint(list(zip_longest(\"abc\",\"12345\",fillvalue=\"_\")))"
    },
    {
      "cell_type": "markdown",
      "metadata": {},
      "source": "## کد 117: دکارتی مشروط با product\nفقط زوج‌هایی که XOR آنها فرد است را نگه می‌دارد.\n"
    },
    {
      "cell_type": "code",
      "metadata": {},
      "execution_count": null,
      "outputs": [],
      "source": "# 117. Conditional cartesian\nfrom itertools import product\nprint([(a,b) for a,b in product(range(4), repeat=2) if (a^b)&1])"
    },
    {
      "cell_type": "markdown",
      "metadata": {},
      "source": "## کد 118: نمایش ماتریسی با __str__ سفارشی\nچاپ ماتریس را زیبا می‌کند.\n"
    },
    {
      "cell_type": "code",
      "metadata": {},
      "execution_count": null,
      "outputs": [],
      "source": "# 118. Pretty matrix\nclass M:\n    def __init__(s,a): s.a=a\n    def __str__(s): return \"\\n\".join(\" \".join(map(str,r)) for r in s.a)\nprint(M([[i*j for j in range(3)] for i in range(3)]))"
    },
    {
      "cell_type": "markdown",
      "metadata": {},
      "source": "## کد 119: جست‌وجوی الگو با finditer و برعکس\nالگو را در رشتهٔ معکوس پیدا می‌کند.\n"
    },
    {
      "cell_type": "code",
      "metadata": {},
      "execution_count": null,
      "outputs": [],
      "source": "# 119. Reverse finditer\nimport re\ns=\"ababababa\"\nprint([m.start() for m in re.finditer(\"aba\",s[::-1])])"
    },
    {
      "cell_type": "markdown",
      "metadata": {},
      "source": "## کد 120: یابندهٔ اعداد خوشحال کوچک\nاعداد خوشحال را با مجموعهٔ دیدها پیدا می‌کند.\n"
    },
    {
      "cell_type": "code",
      "metadata": {},
      "execution_count": null,
      "outputs": [],
      "source": "# 120. Tiny happy numbers\ndef happy(n,seen=set()): \n    if n==1: return True\n    if n in seen: return False\n    seen.add(n); return happy(sum(int(c)**2 for c in str(n)), seen)\nprint([x for x in range(2,50) if happy(x)])"
    },
    {
      "cell_type": "markdown",
      "metadata": {},
      "source": "## کد 121: آینه‌سازی اعداد با ضرب داخلی عجیب\nرشته معکوس عدد را می‌گیرد و حاصل ضرب جفت‌های متوالی را جمع می‌کند.\n"
    },
    {
      "cell_type": "code",
      "metadata": {},
      "execution_count": null,
      "outputs": [],
      "source": "# 121. Mirror-dot trick\nfrom itertools import pairwise\ns=str(121**2)[::-1]\nprint(sum(int(a)*int(b) for a,b in pairwise(\"0\"+s)))"
    },
    {
      "cell_type": "markdown",
      "metadata": {},
      "source": "## کد 122: نُت‌ساز تصادفی با ⁣itertools.cycle\nترکیب cycle با انتخاب تصادفی برای ساخت رشته‌ای از نُت‌ها.\n"
    },
    {
      "cell_type": "code",
      "metadata": {},
      "execution_count": null,
      "outputs": [],
      "source": "# 122. Tiny random note sequencer\nimport itertools, random\nnotes=list(\"CDEFGAB\"); rnd=random.Random(122)\nfor _ in range(12): print(rnd.choice(notes)+next(itertools.cycle(\"#b \")), end=\"\")"
    },
    {
      "cell_type": "markdown",
      "metadata": {},
      "source": "## کد 123: دیکشنریِ شمارشگرِ حروفِ اولِ کلمات\nبا کامپرهنشن تو در تو، تعداد کلمات هر حرف اول را می‌شمارد.\n"
    },
    {
      "cell_type": "code",
      "metadata": {},
      "execution_count": null,
      "outputs": [],
      "source": "# 123. First-letter histogram dict\ntext=\"خیال خامِ خَرامانِ 123\"\nd={k:sum(w.startswith(k) for w in text.split()) for k in set(w[0] for w in text.split())}\nprint(d)"
    },
    {
      "cell_type": "markdown",
      "metadata": {},
      "source": "## کد 124: فشرده‌ساز عددی با ⁣heapq\nیک هیپ می‌سازد و ۵ مقدار کمینهٔ فشرده‌شده را برمی‌دارد.\n"
    },
    {
      "cell_type": "code",
      "metadata": {},
      "execution_count": null,
      "outputs": [],
      "source": "# 124. Heap squeeze\nimport heapq; nums=[(x*x+124)%97 for x in range(15)]\nheapq.heapify(nums); print([heapq.heappop(nums) for _ in range(5)])"
    },
    {
      "cell_type": "markdown",
      "metadata": {},
      "source": "## کد 125: نویز هنری با ⁣fractions.Fraction\nبا کسرها الگوی نقطه/ستاره بر اساس زوج‌بودن می‌سازد.\n"
    },
    {
      "cell_type": "code",
      "metadata": {},
      "execution_count": null,
      "outputs": [],
      "source": "# 125. Fractional noise line\nfrom fractions import Fraction as F\nline=[F(k,9) for k in range(1,10)]\nprint(\"\".join(\".\" if v%2 else \"*\" for v in line))"
    },
    {
      "cell_type": "markdown",
      "metadata": {},
      "source": "## کد 126: مرتّب‌سازی دوگانه با ⁣bisect\nبا insort هر مقدار جدید را درج می‌کند و ماکزیمم لحظه‌ای را نشان می‌دهد.\n"
    },
    {
      "cell_type": "code",
      "metadata": {},
      "execution_count": null,
      "outputs": [],
      "source": "# 126. Dual insert sort\nimport bisect; arr=[]\nfor v in [(126%13*x)%37 for x in range(12)]: bisect.insort(arr,v); print(arr[-1],end=\" \")\nprint(\"\\n\",arr)"
    },
    {
      "cell_type": "markdown",
      "metadata": {},
      "source": "## کد 127: مدیریت‌گر زمینه: وارونه‌کنندهٔ چاپ\nبا context manager خروجی print را معکوس می‌کند.\n"
    },
    {
      "cell_type": "code",
      "metadata": {},
      "execution_count": null,
      "outputs": [],
      "source": "# 127. Context reverser\nimport contextlib, sys\n@contextlib.contextmanager\ndef reversed_print():\n    class W: \n        def write(self,s): sys.__stdout__.write(s[::-1])\n    old=sys.stdout; sys.stdout=W()\n    try: yield\n    finally: sys.stdout=old\nwith reversed_print(): print(\"Hello 127\")"
    },
    {
      "cell_type": "markdown",
      "metadata": {},
      "source": "## کد 128: دکوریتور: حافظهٔ حداقلی با کلید عجیب\nدنباله فیبوناچی مدولویی را با کش لایه انجام می‌دهد.\n"
    },
    {
      "cell_type": "code",
      "metadata": {},
      "execution_count": null,
      "outputs": [],
      "source": "# 128. Minimal memo by weird key\nfrom functools import lru_cache\n@lru_cache(maxsize=None)\ndef f(n,k=5): return 1 if n<2 else (f(n-1,k)+f(n-2,k))%k\nprint([f(x) for x in range(10)])"
    },
    {
      "cell_type": "markdown",
      "metadata": {},
      "source": "## کد 129: کلاس با عملگر @ به‌عنوان آمیختگر رشته\nمتد ویژه __matmul__ را برای آمیختن دو رشته به کار می‌گیرد.\n"
    },
    {
      "cell_type": "code",
      "metadata": {},
      "execution_count": null,
      "outputs": [],
      "source": "# 129. @ as string blender\nclass Blend:\n    def __matmul__(self,other): return \"\".join(a+b for a,b in zip(self.s,other.s))\n    def __init__(self,s): self.s=s\nprint( (Blend(\"abc1\") @ Blend(\"XYZ?\")).upper() )"
    },
    {
      "cell_type": "markdown",
      "metadata": {},
      "source": "## کد 130: ژنراتور زیگزاگ با برش‌های هوشمند\nدنباله‌ای رفت و برگشتی حول صفر تولید می‌کند.\n"
    },
    {
      "cell_type": "code",
      "metadata": {},
      "execution_count": null,
      "outputs": [],
      "source": "# 130. Zigzag generator\ndef zig(n): \n    for k in range(n): yield (-1)**k*(k//2)\nprint(list(it.islice(zig(12),10)))"
    },
    {
      "cell_type": "markdown",
      "metadata": {},
      "source": "## کد 131: کامپرهنشن نامتقارنِ مربع-مکعب\nشبکه‌ای از زوج‌های مربع و مکعب با شرط نامتقارن می‌سازد.\n"
    },
    {
      "cell_type": "code",
      "metadata": {},
      "execution_count": null,
      "outputs": [],
      "source": "# 131. Skewed squares-cubes grid\ngrid=[(x*x,y*y*y) for x in range(1,4) for y in range(x,4) if (x+y)%2]\nprint(grid)"
    },
    {
      "cell_type": "markdown",
      "metadata": {},
      "source": "## کد 132: واژه‌ساز پالین‌دروم با ⁣re.sub\nبا یک جایگزینی منظم، کلمه را به پالین‌دروم دوبله تبدیل می‌کند.\n"
    },
    {
      "cell_type": "code",
      "metadata": {},
      "execution_count": null,
      "outputs": [],
      "source": "# 132. Pal fixer\nimport re\nw=\"level\"\nprint(re.sub(r\"(.*)\",\"\\1\"+w[::-1],w))"
    },
    {
      "cell_type": "markdown",
      "metadata": {},
      "source": "## کد 133: میانگین‌های روندهٔ غیرخطی\nمیانگین هارمونیک تجمعی روی داده‌های مصنوعی محاسبه می‌کند.\n"
    },
    {
      "cell_type": "code",
      "metadata": {},
      "execution_count": null,
      "outputs": [],
      "source": "# 133. Nonlinear rolling mean\nimport statistics as st\ndata=[(k*k+133)%50 for k in range(1,12)]\nprint([round(st.harmonic_mean(data[:k]),2) for k in range(2,len(data)+1)])"
    },
    {
      "cell_type": "markdown",
      "metadata": {},
      "source": "## کد 134: دیکشنریِ تو در تو برای مثلث خیالی\nمثلثی از دیکشنری‌ها و جمع کل مقادیر را می‌سازد.\n"
    },
    {
      "cell_type": "code",
      "metadata": {},
      "execution_count": null,
      "outputs": [],
      "source": "# 134. Nested dict triangle\ntri={i:{j:(i+j)%7 for j in range(i+1)} for i in range(5)}\nprint(tri[3][2], sum(map(sum,(d.values() for d in tri.values()))))"
    },
    {
      "cell_type": "markdown",
      "metadata": {},
      "source": "## کد 135: مدیریت خطای شاعرانه با contextlib.suppress\nبا suppress خطای تقسیم بر صفر احتمالی را می‌بلعد.\n"
    },
    {
      "cell_type": "code",
      "metadata": {},
      "execution_count": null,
      "outputs": [],
      "source": "# 135. Poetic suppress\nfrom contextlib import suppress\nwith suppress(ZeroDivisionError):\n    print(\"silence:\", 1/1-1)"
    },
    {
      "cell_type": "markdown",
      "metadata": {},
      "source": "## کد 136: دکوریتور کندکنندهٔ مشروط\nدکوریتوری که گاهی مکثی کوتاه ایجاد می‌کند.\n"
    },
    {
      "cell_type": "code",
      "metadata": {},
      "execution_count": null,
      "outputs": [],
      "source": "# 136. Conditional slow-down\nimport time, functools\ndef slow(f): \n    @functools.wraps(f)\n    def g(*a,**k): \n        time.sleep(0 if 136%3 else 0.01); return f(*a,**k)\n    return g\n@slow\ndef add(x,y): return x+y\nprint(add(3,1))"
    },
    {
      "cell_type": "markdown",
      "metadata": {},
      "source": "## کد 137: کلاس قابلِ وارون‌سازی با ~\nعملگر ~ را برای برعکس کردن نمایش رشته‌ای مقدار پیاده می‌کند.\n"
    },
    {
      "cell_type": "code",
      "metadata": {},
      "execution_count": null,
      "outputs": [],
      "source": "# 137. Invertible object\nclass Flip:\n    def __init__(self,v): self.v=v\n    def __invert__(self): return Flip(str(self.v)[::-1])\n    def __repr__(self): return f\"Flip({self.v})\"\nprint(~Flip(18769))"
    },
    {
      "cell_type": "markdown",
      "metadata": {},
      "source": "## کد 138: مینی DSL جمعی با __call__\nکلاسی که با فراخوانی‌های زنجیره‌ای مجموع را نگه می‌دارد.\n"
    },
    {
      "cell_type": "code",
      "metadata": {},
      "execution_count": null,
      "outputs": [],
      "source": "# 138. Tiny DSL\nclass S:\n    def __init__(self): self.t=0\n    def __call__(self,*xs): self.t+=sum(xs); return self\n    def __repr__(self): return f\"Σ={self.t}\"\nprint(S()(1,3,3)(4)(-2))"
    },
    {
      "cell_type": "markdown",
      "metadata": {},
      "source": "## کد 139: گراف فشرده با defaultdict و zip\nیک گراف جهت‌دار حلقوی ساده به طور فشرده می‌سازد.\n"
    },
    {
      "cell_type": "code",
      "metadata": {},
      "execution_count": null,
      "outputs": [],
      "source": "# 139. Compact graph\nfrom collections import defaultdict\ng=defaultdict(list); edges=list(zip(\"abcd\",\"bcda\"))\nfor a,b in edges: g[a].append(b)\nprint(dict(g))"
    },
    {
      "cell_type": "markdown",
      "metadata": {},
      "source": "## کد 140: ماهی‌گیر الگو با enumerate و slicing\nاندیس‌های الگوهای خاص را در رشته‌ای پیدا می‌کند.\n"
    },
    {
      "cell_type": "code",
      "metadata": {},
      "execution_count": null,
      "outputs": [],
      "source": "# 140. Pattern fisher\ns=\"--><><<><>\"*2\nhits=[i for i,ch in enumerate(s) if s[i:i+3] in (\"><>\", \"<>\")]\nprint(hits)"
    },
    {
      "cell_type": "markdown",
      "metadata": {},
      "source": "## کد 141: ترکیب‌گر lambda برای فیلترهای چندمرحله‌ای\nسه آزمون را با هم ترکیب کرده و اعداد گذرندهٔ دقیقاً دو شرط را می‌یابد.\n"
    },
    {
      "cell_type": "code",
      "metadata": {},
      "execution_count": null,
      "outputs": [],
      "source": "# 141. Lambda combiner\nfs=[lambda x:x%2, lambda x:x%3, lambda x:x>1]\nprint([x for x in range(15) if sum(f(x)==0 for f in fs)==2])"
    },
    {
      "cell_type": "markdown",
      "metadata": {},
      "source": "## کد 142: چرخش لایه‌ای دیکشنری\nبرای هر کلید سه‌تاییِ همسایه‌های دورانی می‌سازد.\n"
    },
    {
      "cell_type": "code",
      "metadata": {},
      "execution_count": null,
      "outputs": [],
      "source": "# 142. Layered dict rotate\nd={k:142+k for k in range(5)}\nrot={k:(d[(k-1)%5],d[k],d[(k+1)%5]) for k in d}\nprint(rot[2])"
    },
    {
      "cell_type": "markdown",
      "metadata": {},
      "source": "## کد 143: انتخابگر غیرخطی با bisect و جمع پیشوندی\nبا اوزان نامتقارن، اندیس‌های انتخاب‌شده را می‌سازد.\n"
    },
    {
      "cell_type": "code",
      "metadata": {},
      "execution_count": null,
      "outputs": [],
      "source": "# 143. Nonlinear picker\nimport bisect\nw=[k*k%7+1 for k in range(1,8)]\npref=[0]\nfor x in w: pref.append(pref[-1]+x)\npick=lambda r: bisect.bisect(pref,r%pref[-1])-1\nprint([pick(k+143) for k in range(10)])"
    },
    {
      "cell_type": "markdown",
      "metadata": {},
      "source": "## کد 144: فهرست‌ساز دیوانه با map و set\nبا map و set مقادیر یکتا از تبدیل مدولویی تولید می‌کند.\n"
    },
    {
      "cell_type": "code",
      "metadata": {},
      "execution_count": null,
      "outputs": [],
      "source": "# 144. Mad lister\nxs=set(map(lambda x:(x*6)%11, range(12)))\nprint(sorted(xs))"
    },
    {
      "cell_type": "markdown",
      "metadata": {},
      "source": "## کد 145: کانتکست‌منیجر شمارندهٔ print\nبه طور موقت print را می‌پیچد و دفعات فراخوانی را می‌شمارد.\n"
    },
    {
      "cell_type": "code",
      "metadata": {},
      "execution_count": null,
      "outputs": [],
      "source": "# 145. Print counter\nimport contextlib, builtins\n@contextlib.contextmanager\ndef count_print():\n    c={\"n\":0}; old=builtins.print\n    def p(*a,**k): c[\"n\"]+=1; return old(*a,**k)\n    builtins.print=p; \n    try: yield c\n    finally: builtins.print=old\nwith count_print() as C: print(\"x\"); print(145); print(C[\"n\"])"
    },
    {
      "cell_type": "markdown",
      "metadata": {},
      "source": "## کد 146: minimax کوچک با functools.reduce\nحداقل و حداکثر را در یک عبور با reduce می‌یابد.\n"
    },
    {
      "cell_type": "code",
      "metadata": {},
      "execution_count": null,
      "outputs": [],
      "source": "# 146. Tiny minimax\nfrom functools import reduce\nseq=[(x*3)%17 for x in range(8)]\nprint(reduce(lambda a,b:(min(a,b),max(a,b)),seq))"
    },
    {
      "cell_type": "markdown",
      "metadata": {},
      "source": "## کد 147: کلاس قابلِ اسلاید با __getitem__\nبرش روی شی را جابجایی دورانی رشته معنی می‌کند.\n"
    },
    {
      "cell_type": "code",
      "metadata": {},
      "execution_count": null,
      "outputs": [],
      "source": "# 147. Slideable\nclass Slide:\n    def __init__(self,s): self.s=s\n    def __getitem__(self,k): return self.s[k:]+self.s[:k]\nprint(Slide(\"HELLO\")[2])"
    },
    {
      "cell_type": "markdown",
      "metadata": {},
      "source": "## کد 148: جمع دیفرانسیلی با accumulate عجیب\nاعداد زوج را جمع و فردها را کم می‌کند.\n"
    },
    {
      "cell_type": "code",
      "metadata": {},
      "execution_count": null,
      "outputs": [],
      "source": "# 148. Differential sum\nfrom itertools import accumulate\nprint(list(accumulate(range(1,7), lambda a,b: a + (b%2 and -b or b))))"
    },
    {
      "cell_type": "markdown",
      "metadata": {},
      "source": "## کد 149: Counter برای تشخیص آناگرام‌های جزئی\nاشتراک چندمجموعه‌ای حروف بین دو واژه را می‌دهد.\n"
    },
    {
      "cell_type": "code",
      "metadata": {},
      "execution_count": null,
      "outputs": [],
      "source": "# 149. Partial anagram\nfrom collections import Counter\na,b=\"silent\",\"listens\"\nprint(Counter(a) & Counter(b))"
    },
    {
      "cell_type": "markdown",
      "metadata": {},
      "source": "## کد 150: ارباب صف با heapq و اولویت پویا\nاولویت کارها با سینوس زمان تعیین می‌شود.\n"
    },
    {
      "cell_type": "code",
      "metadata": {},
      "execution_count": null,
      "outputs": [],
      "source": "# 150. Dynamic priority queue\nimport heapq, math\ntasks=[(math.sin(k),f\"T{k}\") for k in range(6)]\nheapq.heapify(tasks); print(heapq.heappop(tasks)[1])"
    },
    {
      "cell_type": "markdown",
      "metadata": {},
      "source": "## کد 151: Decimal برای بازی با دقت\nنمایشی با دقت کنترل‌شده از تقسیم تولید می‌کند.\n"
    },
    {
      "cell_type": "code",
      "metadata": {},
      "execution_count": null,
      "outputs": [],
      "source": "# 151. Precision play\nfrom decimal import Decimal, getcontext\ngetcontext().prec=10\nx=Decimal(152)/Decimal(7)\nprint(str(x)[:12])"
    },
    {
      "cell_type": "markdown",
      "metadata": {},
      "source": "## کد 152: مسیرسازی نمادین با pathlib\nبدون دسترسی فایل، مسیرها را به شکل امن ترکیب می‌کند.\n"
    },
    {
      "cell_type": "code",
      "metadata": {},
      "execution_count": null,
      "outputs": [],
      "source": "# 152. Symbolic path mash\nfrom pathlib import PurePosixPath as P\np=P(\"/var\")/str(8)/\"log\"\nprint(p.with_suffix(\".txt\"))"
    },
    {
      "cell_type": "markdown",
      "metadata": {},
      "source": "## کد 153: ترکیب‌کنندهٔ چندتابع با reduce\nچند تابع را به ترتیب روی ورودی اعمال می‌کند.\n"
    },
    {
      "cell_type": "code",
      "metadata": {},
      "execution_count": null,
      "outputs": [],
      "source": "# 153. Multifun composer\nfrom functools import reduce\ndef compose(*fs): return reduce(lambda f,g: lambda x: f(g(x)), fs, lambda x:x)\nh=compose(lambda x:x+1, lambda x:x*2, lambda x:x**2)\nprint(h(3))"
    },
    {
      "cell_type": "markdown",
      "metadata": {},
      "source": "## کد 154: سری باینری با بیت‌وارگی رشته\nاز بیت‌های یک عدد سری وزن‌دار می‌سازد.\n"
    },
    {
      "cell_type": "code",
      "metadata": {},
      "execution_count": null,
      "outputs": [],
      "source": "# 154. Binary series\ns=bin(23723)[2:]\nprint(sum((i+1)*int(b) for i,b in enumerate(s)))"
    },
    {
      "cell_type": "markdown",
      "metadata": {},
      "source": "## کد 155: فشرده‌سازی run-length یک‌خطی\nبا groupby تکرارها را فشرده می‌کند.\n"
    },
    {
      "cell_type": "code",
      "metadata": {},
      "execution_count": null,
      "outputs": [],
      "source": "# 155. Run-length in one go\ns=\"aaabbbbccdde\"; out=[(c,len(list(g))) for c,g in it.groupby(s)]\nprint(out)"
    },
    {
      "cell_type": "markdown",
      "metadata": {},
      "source": "## کد 156: ترکیب zip_longest برای ساخت جدول نامتوازن\nدو توالی ناهمطول را با مقدار جایگزین می‌دوزد.\n"
    },
    {
      "cell_type": "code",
      "metadata": {},
      "execution_count": null,
      "outputs": [],
      "source": "# 156. Ragged table\nfrom itertools import zip_longest\nprint(list(zip_longest(\"abc\",\"12345\",fillvalue=\"_\")))"
    },
    {
      "cell_type": "markdown",
      "metadata": {},
      "source": "## کد 157: دکارتی مشروط با product\nفقط زوج‌هایی که XOR آنها فرد است را نگه می‌دارد.\n"
    },
    {
      "cell_type": "code",
      "metadata": {},
      "execution_count": null,
      "outputs": [],
      "source": "# 157. Conditional cartesian\nfrom itertools import product\nprint([(a,b) for a,b in product(range(4), repeat=2) if (a^b)&1])"
    },
    {
      "cell_type": "markdown",
      "metadata": {},
      "source": "## کد 158: نمایش ماتریسی با __str__ سفارشی\nچاپ ماتریس را زیبا می‌کند.\n"
    },
    {
      "cell_type": "code",
      "metadata": {},
      "execution_count": null,
      "outputs": [],
      "source": "# 158. Pretty matrix\nclass M:\n    def __init__(s,a): s.a=a\n    def __str__(s): return \"\\n\".join(\" \".join(map(str,r)) for r in s.a)\nprint(M([[i*j for j in range(3)] for i in range(3)]))"
    },
    {
      "cell_type": "markdown",
      "metadata": {},
      "source": "## کد 159: جست‌وجوی الگو با finditer و برعکس\nالگو را در رشتهٔ معکوس پیدا می‌کند.\n"
    },
    {
      "cell_type": "code",
      "metadata": {},
      "execution_count": null,
      "outputs": [],
      "source": "# 159. Reverse finditer\nimport re\ns=\"ababa\"\nprint([m.start() for m in re.finditer(\"aba\",s[::-1])])"
    },
    {
      "cell_type": "markdown",
      "metadata": {},
      "source": "## کد 160: یابندهٔ اعداد خوشحال کوچک\nاعداد خوشحال را با مجموعهٔ دیدها پیدا می‌کند.\n"
    },
    {
      "cell_type": "code",
      "metadata": {},
      "execution_count": null,
      "outputs": [],
      "source": "# 160. Tiny happy numbers\ndef happy(n,seen=set()): \n    if n==1: return True\n    if n in seen: return False\n    seen.add(n); return happy(sum(int(c)**2 for c in str(n)), seen)\nprint([x for x in range(2,50) if happy(x)])"
    },
    {
      "cell_type": "markdown",
      "metadata": {},
      "source": "## کد 161: آینه‌سازی اعداد با ضرب داخلی عجیب\nرشته معکوس عدد را می‌گیرد و حاصل ضرب جفت‌های متوالی را جمع می‌کند.\n"
    },
    {
      "cell_type": "code",
      "metadata": {},
      "execution_count": null,
      "outputs": [],
      "source": "# 161. Mirror-dot trick\nfrom itertools import pairwise\ns=str(161**2)[::-1]\nprint(sum(int(a)*int(b) for a,b in pairwise(\"0\"+s)))"
    },
    {
      "cell_type": "markdown",
      "metadata": {},
      "source": "## کد 162: نُت‌ساز تصادفی با ⁣itertools.cycle\nترکیب cycle با انتخاب تصادفی برای ساخت رشته‌ای از نُت‌ها.\n"
    },
    {
      "cell_type": "code",
      "metadata": {},
      "execution_count": null,
      "outputs": [],
      "source": "# 162. Tiny random note sequencer\nimport itertools, random\nnotes=list(\"CDEFGAB\"); rnd=random.Random(162)\nfor _ in range(12): print(rnd.choice(notes)+next(itertools.cycle(\"#b \")), end=\"\")"
    },
    {
      "cell_type": "markdown",
      "metadata": {},
      "source": "## کد 163: دیکشنریِ شمارشگرِ حروفِ اولِ کلمات\nبا کامپرهنشن تو در تو، تعداد کلمات هر حرف اول را می‌شمارد.\n"
    },
    {
      "cell_type": "code",
      "metadata": {},
      "execution_count": null,
      "outputs": [],
      "source": "# 163. First-letter histogram dict\ntext=\"خیال خامِ خَرامانِ 163\"\nd={k:sum(w.startswith(k) for w in text.split()) for k in set(w[0] for w in text.split())}\nprint(d)"
    },
    {
      "cell_type": "markdown",
      "metadata": {},
      "source": "## کد 164: فشرده‌ساز عددی با ⁣heapq\nیک هیپ می‌سازد و ۵ مقدار کمینهٔ فشرده‌شده را برمی‌دارد.\n"
    },
    {
      "cell_type": "code",
      "metadata": {},
      "execution_count": null,
      "outputs": [],
      "source": "# 164. Heap squeeze\nimport heapq; nums=[(x*x+164)%97 for x in range(15)]\nheapq.heapify(nums); print([heapq.heappop(nums) for _ in range(5)])"
    },
    {
      "cell_type": "markdown",
      "metadata": {},
      "source": "## کد 165: نویز هنری با ⁣fractions.Fraction\nبا کسرها الگوی نقطه/ستاره بر اساس زوج‌بودن می‌سازد.\n"
    },
    {
      "cell_type": "code",
      "metadata": {},
      "execution_count": null,
      "outputs": [],
      "source": "# 165. Fractional noise line\nfrom fractions import Fraction as F\nline=[F(k,7) for k in range(1,10)]\nprint(\"\".join(\".\" if v%2 else \"*\" for v in line))"
    },
    {
      "cell_type": "markdown",
      "metadata": {},
      "source": "## کد 166: مرتّب‌سازی دوگانه با ⁣bisect\nبا insort هر مقدار جدید را درج می‌کند و ماکزیمم لحظه‌ای را نشان می‌دهد.\n"
    },
    {
      "cell_type": "code",
      "metadata": {},
      "execution_count": null,
      "outputs": [],
      "source": "# 166. Dual insert sort\nimport bisect; arr=[]\nfor v in [(166%13*x)%37 for x in range(12)]: bisect.insort(arr,v); print(arr[-1],end=\" \")\nprint(\"\\n\",arr)"
    },
    {
      "cell_type": "markdown",
      "metadata": {},
      "source": "## کد 167: مدیریت‌گر زمینه: وارونه‌کنندهٔ چاپ\nبا context manager خروجی print را معکوس می‌کند.\n"
    },
    {
      "cell_type": "code",
      "metadata": {},
      "execution_count": null,
      "outputs": [],
      "source": "# 167. Context reverser\nimport contextlib, sys\n@contextlib.contextmanager\ndef reversed_print():\n    class W: \n        def write(self,s): sys.__stdout__.write(s[::-1])\n    old=sys.stdout; sys.stdout=W()\n    try: yield\n    finally: sys.stdout=old\nwith reversed_print(): print(\"Hello 167\")"
    },
    {
      "cell_type": "markdown",
      "metadata": {},
      "source": "## کد 168: دکوریتور: حافظهٔ حداقلی با کلید عجیب\nدنباله فیبوناچی مدولویی را با کش لایه انجام می‌دهد.\n"
    },
    {
      "cell_type": "code",
      "metadata": {},
      "execution_count": null,
      "outputs": [],
      "source": "# 168. Minimal memo by weird key\nfrom functools import lru_cache\n@lru_cache(maxsize=None)\ndef f(n,k=5): return 1 if n<2 else (f(n-1,k)+f(n-2,k))%k\nprint([f(x) for x in range(10)])"
    },
    {
      "cell_type": "markdown",
      "metadata": {},
      "source": "## کد 169: کلاس با عملگر @ به‌عنوان آمیختگر رشته\nمتد ویژه __matmul__ را برای آمیختن دو رشته به کار می‌گیرد.\n"
    },
    {
      "cell_type": "code",
      "metadata": {},
      "execution_count": null,
      "outputs": [],
      "source": "# 169. @ as string blender\nclass Blend:\n    def __matmul__(self,other): return \"\".join(a+b for a,b in zip(self.s,other.s))\n    def __init__(self,s): self.s=s\nprint( (Blend(\"abc2\") @ Blend(\"XYZ?\")).upper() )"
    },
    {
      "cell_type": "markdown",
      "metadata": {},
      "source": "## کد 170: ژنراتور زیگزاگ با برش‌های هوشمند\nدنباله‌ای رفت و برگشتی حول صفر تولید می‌کند.\n"
    },
    {
      "cell_type": "code",
      "metadata": {},
      "execution_count": null,
      "outputs": [],
      "source": "# 170. Zigzag generator\ndef zig(n): \n    for k in range(n): yield (-1)**k*(k//2)\nprint(list(it.islice(zig(16),10)))"
    },
    {
      "cell_type": "markdown",
      "metadata": {},
      "source": "## کد 171: کامپرهنشن نامتقارنِ مربع-مکعب\nشبکه‌ای از زوج‌های مربع و مکعب با شرط نامتقارن می‌سازد.\n"
    },
    {
      "cell_type": "code",
      "metadata": {},
      "execution_count": null,
      "outputs": [],
      "source": "# 171. Skewed squares-cubes grid\ngrid=[(x*x,y*y*y) for x in range(1,4) for y in range(x,4) if (x+y)%2]\nprint(grid)"
    },
    {
      "cell_type": "markdown",
      "metadata": {},
      "source": "## کد 172: واژه‌ساز پالین‌دروم با ⁣re.sub\nبا یک جایگزینی منظم، کلمه را به پالین‌دروم دوبله تبدیل می‌کند.\n"
    },
    {
      "cell_type": "code",
      "metadata": {},
      "execution_count": null,
      "outputs": [],
      "source": "# 172. Pal fixer\nimport re\nw=\"level\"\nprint(re.sub(r\"(.*)\",\"\\1\"+w[::-1],w))"
    },
    {
      "cell_type": "markdown",
      "metadata": {},
      "source": "## کد 173: میانگین‌های روندهٔ غیرخطی\nمیانگین هارمونیک تجمعی روی داده‌های مصنوعی محاسبه می‌کند.\n"
    },
    {
      "cell_type": "code",
      "metadata": {},
      "execution_count": null,
      "outputs": [],
      "source": "# 173. Nonlinear rolling mean\nimport statistics as st\ndata=[(k*k+173)%50 for k in range(1,12)]\nprint([round(st.harmonic_mean(data[:k]),2) for k in range(2,len(data)+1)])"
    },
    {
      "cell_type": "markdown",
      "metadata": {},
      "source": "## کد 174: دیکشنریِ تو در تو برای مثلث خیالی\nمثلثی از دیکشنری‌ها و جمع کل مقادیر را می‌سازد.\n"
    },
    {
      "cell_type": "code",
      "metadata": {},
      "execution_count": null,
      "outputs": [],
      "source": "# 174. Nested dict triangle\ntri={i:{j:(i+j)%7 for j in range(i+1)} for i in range(5)}\nprint(tri[3][2], sum(map(sum,(d.values() for d in tri.values()))))"
    },
    {
      "cell_type": "markdown",
      "metadata": {},
      "source": "## کد 175: مدیریت خطای شاعرانه با contextlib.suppress\nبا suppress خطای تقسیم بر صفر احتمالی را می‌بلعد.\n"
    },
    {
      "cell_type": "code",
      "metadata": {},
      "execution_count": null,
      "outputs": [],
      "source": "# 175. Poetic suppress\nfrom contextlib import suppress\nwith suppress(ZeroDivisionError):\n    print(\"silence:\", 1/1-1)"
    },
    {
      "cell_type": "markdown",
      "metadata": {},
      "source": "## کد 176: دکوریتور کندکنندهٔ مشروط\nدکوریتوری که گاهی مکثی کوتاه ایجاد می‌کند.\n"
    },
    {
      "cell_type": "code",
      "metadata": {},
      "execution_count": null,
      "outputs": [],
      "source": "# 176. Conditional slow-down\nimport time, functools\ndef slow(f): \n    @functools.wraps(f)\n    def g(*a,**k): \n        time.sleep(0 if 176%3 else 0.01); return f(*a,**k)\n    return g\n@slow\ndef add(x,y): return x+y\nprint(add(1,1))"
    },
    {
      "cell_type": "markdown",
      "metadata": {},
      "source": "## کد 177: کلاس قابلِ وارون‌سازی با ~\nعملگر ~ را برای برعکس کردن نمایش رشته‌ای مقدار پیاده می‌کند.\n"
    },
    {
      "cell_type": "code",
      "metadata": {},
      "execution_count": null,
      "outputs": [],
      "source": "# 177. Invertible object\nclass Flip:\n    def __init__(self,v): self.v=v\n    def __invert__(self): return Flip(str(self.v)[::-1])\n    def __repr__(self): return f\"Flip({self.v})\"\nprint(~Flip(31329))"
    },
    {
      "cell_type": "markdown",
      "metadata": {},
      "source": "## کد 178: مینی DSL جمعی با __call__\nکلاسی که با فراخوانی‌های زنجیره‌ای مجموع را نگه می‌دارد.\n"
    },
    {
      "cell_type": "code",
      "metadata": {},
      "execution_count": null,
      "outputs": [],
      "source": "# 178. Tiny DSL\nclass S:\n    def __init__(self): self.t=0\n    def __call__(self,*xs): self.t+=sum(xs); return self\n    def __repr__(self): return f\"Σ={self.t}\"\nprint(S()(1,7,3)(4)(-2))"
    },
    {
      "cell_type": "markdown",
      "metadata": {},
      "source": "## کد 179: گراف فشرده با defaultdict و zip\nیک گراف جهت‌دار حلقوی ساده به طور فشرده می‌سازد.\n"
    },
    {
      "cell_type": "code",
      "metadata": {},
      "execution_count": null,
      "outputs": [],
      "source": "# 179. Compact graph\nfrom collections import defaultdict\ng=defaultdict(list); edges=list(zip(\"abcd\",\"bcda\"))\nfor a,b in edges: g[a].append(b)\nprint(dict(g))"
    },
    {
      "cell_type": "markdown",
      "metadata": {},
      "source": "## کد 180: ماهی‌گیر الگو با enumerate و slicing\nاندیس‌های الگوهای خاص را در رشته‌ای پیدا می‌کند.\n"
    },
    {
      "cell_type": "code",
      "metadata": {},
      "execution_count": null,
      "outputs": [],
      "source": "# 180. Pattern fisher\ns=\"--><><<><>\"*2\nhits=[i for i,ch in enumerate(s) if s[i:i+3] in (\"><>\", \"<>\")]\nprint(hits)"
    },
    {
      "cell_type": "markdown",
      "metadata": {},
      "source": "## کد 181: ترکیب‌گر lambda برای فیلترهای چندمرحله‌ای\nسه آزمون را با هم ترکیب کرده و اعداد گذرندهٔ دقیقاً دو شرط را می‌یابد.\n"
    },
    {
      "cell_type": "code",
      "metadata": {},
      "execution_count": null,
      "outputs": [],
      "source": "# 181. Lambda combiner\nfs=[lambda x:x%2, lambda x:x%3, lambda x:x>6]\nprint([x for x in range(15) if sum(f(x)==0 for f in fs)==2])"
    },
    {
      "cell_type": "markdown",
      "metadata": {},
      "source": "## کد 182: چرخش لایه‌ای دیکشنری\nبرای هر کلید سه‌تاییِ همسایه‌های دورانی می‌سازد.\n"
    },
    {
      "cell_type": "code",
      "metadata": {},
      "execution_count": null,
      "outputs": [],
      "source": "# 182. Layered dict rotate\nd={k:182+k for k in range(5)}\nrot={k:(d[(k-1)%5],d[k],d[(k+1)%5]) for k in d}\nprint(rot[2])"
    },
    {
      "cell_type": "markdown",
      "metadata": {},
      "source": "## کد 183: انتخابگر غیرخطی با bisect و جمع پیشوندی\nبا اوزان نامتقارن، اندیس‌های انتخاب‌شده را می‌سازد.\n"
    },
    {
      "cell_type": "code",
      "metadata": {},
      "execution_count": null,
      "outputs": [],
      "source": "# 183. Nonlinear picker\nimport bisect\nw=[k*k%7+1 for k in range(1,8)]\npref=[0]\nfor x in w: pref.append(pref[-1]+x)\npick=lambda r: bisect.bisect(pref,r%pref[-1])-1\nprint([pick(k+183) for k in range(10)])"
    },
    {
      "cell_type": "markdown",
      "metadata": {},
      "source": "## کد 184: فهرست‌ساز دیوانه با map و set\nبا map و set مقادیر یکتا از تبدیل مدولویی تولید می‌کند.\n"
    },
    {
      "cell_type": "code",
      "metadata": {},
      "execution_count": null,
      "outputs": [],
      "source": "# 184. Mad lister\nxs=set(map(lambda x:(x*6)%11, range(12)))\nprint(sorted(xs))"
    },
    {
      "cell_type": "markdown",
      "metadata": {},
      "source": "## کد 185: کانتکست‌منیجر شمارندهٔ print\nبه طور موقت print را می‌پیچد و دفعات فراخوانی را می‌شمارد.\n"
    },
    {
      "cell_type": "code",
      "metadata": {},
      "execution_count": null,
      "outputs": [],
      "source": "# 185. Print counter\nimport contextlib, builtins\n@contextlib.contextmanager\ndef count_print():\n    c={\"n\":0}; old=builtins.print\n    def p(*a,**k): c[\"n\"]+=1; return old(*a,**k)\n    builtins.print=p; \n    try: yield c\n    finally: builtins.print=old\nwith count_print() as C: print(\"x\"); print(185); print(C[\"n\"])"
    },
    {
      "cell_type": "markdown",
      "metadata": {},
      "source": "## کد 186: minimax کوچک با functools.reduce\nحداقل و حداکثر را در یک عبور با reduce می‌یابد.\n"
    },
    {
      "cell_type": "code",
      "metadata": {},
      "execution_count": null,
      "outputs": [],
      "source": "# 186. Tiny minimax\nfrom functools import reduce\nseq=[(x*7)%17 for x in range(8)]\nprint(reduce(lambda a,b:(min(a,b),max(a,b)),seq))"
    },
    {
      "cell_type": "markdown",
      "metadata": {},
      "source": "## کد 187: کلاس قابلِ اسلاید با __getitem__\nبرش روی شی را جابجایی دورانی رشته معنی می‌کند.\n"
    },
    {
      "cell_type": "code",
      "metadata": {},
      "execution_count": null,
      "outputs": [],
      "source": "# 187. Slideable\nclass Slide:\n    def __init__(self,s): self.s=s\n    def __getitem__(self,k): return self.s[k:]+self.s[:k]\nprint(Slide(\"HELLO\")[2])"
    },
    {
      "cell_type": "markdown",
      "metadata": {},
      "source": "## کد 188: جمع دیفرانسیلی با accumulate عجیب\nاعداد زوج را جمع و فردها را کم می‌کند.\n"
    },
    {
      "cell_type": "code",
      "metadata": {},
      "execution_count": null,
      "outputs": [],
      "source": "# 188. Differential sum\nfrom itertools import accumulate\nprint(list(accumulate(range(1,7), lambda a,b: a + (b%2 and -b or b))))"
    },
    {
      "cell_type": "markdown",
      "metadata": {},
      "source": "## کد 189: Counter برای تشخیص آناگرام‌های جزئی\nاشتراک چندمجموعه‌ای حروف بین دو واژه را می‌دهد.\n"
    },
    {
      "cell_type": "code",
      "metadata": {},
      "execution_count": null,
      "outputs": [],
      "source": "# 189. Partial anagram\nfrom collections import Counter\na,b=\"silent\",\"listens\"\nprint(Counter(a) & Counter(b))"
    },
    {
      "cell_type": "markdown",
      "metadata": {},
      "source": "## کد 190: ارباب صف با heapq و اولویت پویا\nاولویت کارها با سینوس زمان تعیین می‌شود.\n"
    },
    {
      "cell_type": "code",
      "metadata": {},
      "execution_count": null,
      "outputs": [],
      "source": "# 190. Dynamic priority queue\nimport heapq, math\ntasks=[(math.sin(k),f\"T{k}\") for k in range(6)]\nheapq.heapify(tasks); print(heapq.heappop(tasks)[1])"
    },
    {
      "cell_type": "markdown",
      "metadata": {},
      "source": "## کد 191: Decimal برای بازی با دقت\nنمایشی با دقت کنترل‌شده از تقسیم تولید می‌کند.\n"
    },
    {
      "cell_type": "code",
      "metadata": {},
      "execution_count": null,
      "outputs": [],
      "source": "# 191. Precision play\nfrom decimal import Decimal, getcontext\ngetcontext().prec=10\nx=Decimal(192)/Decimal(7)\nprint(str(x)[:12])"
    },
    {
      "cell_type": "markdown",
      "metadata": {},
      "source": "## کد 192: مسیرسازی نمادین با pathlib\nبدون دسترسی فایل، مسیرها را به شکل امن ترکیب می‌کند.\n"
    },
    {
      "cell_type": "code",
      "metadata": {},
      "execution_count": null,
      "outputs": [],
      "source": "# 192. Symbolic path mash\nfrom pathlib import PurePosixPath as P\np=P(\"/var\")/str(3)/\"log\"\nprint(p.with_suffix(\".txt\"))"
    },
    {
      "cell_type": "markdown",
      "metadata": {},
      "source": "## کد 193: ترکیب‌کنندهٔ چندتابع با reduce\nچند تابع را به ترتیب روی ورودی اعمال می‌کند.\n"
    },
    {
      "cell_type": "code",
      "metadata": {},
      "execution_count": null,
      "outputs": [],
      "source": "# 193. Multifun composer\nfrom functools import reduce\ndef compose(*fs): return reduce(lambda f,g: lambda x: f(g(x)), fs, lambda x:x)\nh=compose(lambda x:x+1, lambda x:x*2, lambda x:x**2)\nprint(h(3))"
    },
    {
      "cell_type": "markdown",
      "metadata": {},
      "source": "## کد 194: سری باینری با بیت‌وارگی رشته\nاز بیت‌های یک عدد سری وزن‌دار می‌سازد.\n"
    },
    {
      "cell_type": "code",
      "metadata": {},
      "execution_count": null,
      "outputs": [],
      "source": "# 194. Binary series\ns=bin(37643)[2:]\nprint(sum((i+1)*int(b) for i,b in enumerate(s)))"
    },
    {
      "cell_type": "markdown",
      "metadata": {},
      "source": "## کد 195: فشرده‌سازی run-length یک‌خطی\nبا groupby تکرارها را فشرده می‌کند.\n"
    },
    {
      "cell_type": "code",
      "metadata": {},
      "execution_count": null,
      "outputs": [],
      "source": "# 195. Run-length in one go\ns=\"aaabbbbccdde\"; out=[(c,len(list(g))) for c,g in it.groupby(s)]\nprint(out)"
    },
    {
      "cell_type": "markdown",
      "metadata": {},
      "source": "## کد 196: ترکیب zip_longest برای ساخت جدول نامتوازن\nدو توالی ناهمطول را با مقدار جایگزین می‌دوزد.\n"
    },
    {
      "cell_type": "code",
      "metadata": {},
      "execution_count": null,
      "outputs": [],
      "source": "# 196. Ragged table\nfrom itertools import zip_longest\nprint(list(zip_longest(\"abc\",\"12345\",fillvalue=\"_\")))"
    },
    {
      "cell_type": "markdown",
      "metadata": {},
      "source": "## کد 197: دکارتی مشروط با product\nفقط زوج‌هایی که XOR آنها فرد است را نگه می‌دارد.\n"
    },
    {
      "cell_type": "code",
      "metadata": {},
      "execution_count": null,
      "outputs": [],
      "source": "# 197. Conditional cartesian\nfrom itertools import product\nprint([(a,b) for a,b in product(range(4), repeat=2) if (a^b)&1])"
    },
    {
      "cell_type": "markdown",
      "metadata": {},
      "source": "## کد 198: نمایش ماتریسی با __str__ سفارشی\nچاپ ماتریس را زیبا می‌کند.\n"
    },
    {
      "cell_type": "code",
      "metadata": {},
      "execution_count": null,
      "outputs": [],
      "source": "# 198. Pretty matrix\nclass M:\n    def __init__(s,a): s.a=a\n    def __str__(s): return \"\\n\".join(\" \".join(map(str,r)) for r in s.a)\nprint(M([[i*j for j in range(3)] for i in range(3)]))"
    },
    {
      "cell_type": "markdown",
      "metadata": {},
      "source": "## کد 199: جست‌وجوی الگو با finditer و برعکس\nالگو را در رشتهٔ معکوس پیدا می‌کند.\n"
    },
    {
      "cell_type": "code",
      "metadata": {},
      "execution_count": null,
      "outputs": [],
      "source": "# 199. Reverse finditer\nimport re\ns=\"abababa\"\nprint([m.start() for m in re.finditer(\"aba\",s[::-1])])"
    },
    {
      "cell_type": "markdown",
      "metadata": {},
      "source": "## کد 200: یابندهٔ اعداد خوشحال کوچک\nاعداد خوشحال را با مجموعهٔ دیدها پیدا می‌کند.\n"
    },
    {
      "cell_type": "code",
      "metadata": {},
      "execution_count": null,
      "outputs": [],
      "source": "# 200. Tiny happy numbers\ndef happy(n,seen=set()): \n    if n==1: return True\n    if n in seen: return False\n    seen.add(n); return happy(sum(int(c)**2 for c in str(n)), seen)\nprint([x for x in range(2,50) if happy(x)])"
    }
  ]
}